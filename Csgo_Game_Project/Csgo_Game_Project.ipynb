{
  "cells": [
    {
      "cell_type": "markdown",
      "metadata": {
        "id": "czNnfN9bz5CU"
      },
      "source": [
        "**Problem Statement -**\n",
        "The objective of this project is to build and compare multiple machine learning algorithms\n",
        "for the classification of round winners in the game CS:GO."
      ]
    },
    {
      "cell_type": "markdown",
      "metadata": {
        "id": "iNwm0hjj2IQa"
      },
      "source": [
        "**Key Features of CS:GO**:\n",
        "**Game Modes**:\n",
        "\n",
        "**Competitive**: Standard 5v5 matches with two teams competing in 30 rounds, with the first team to win 16 rounds winning the match.\n",
        "\n",
        "**Casual**: Less intense than Competitive, allowing players to enjoy the game without the pressure of ranked play.\n",
        "\n",
        "**Deathmatch**: Players respawn instantly after death, aiming to get as many kills as possible within a set time limit.\n",
        "\n",
        "**Arms Race**: Players advance through a series of weapons by getting kills, starting from weaker guns and progressing to stronger ones.\n",
        "\n",
        "**Demolition**: A combination of bomb defusal and arms race modes, where players earn new weapons by getting kills and attempt to plant or defuse a bomb.\n",
        "\n",
        "**Maps**: A variety of maps, each with its unique layout and strategic points. Popular maps include Dust II, Mirage, Inferno, and Nuke.\n",
        "\n",
        "**Weapons and Equipment**: A wide range of firearms, grenades, and other equipment that players can buy at the start of each round using in-game currency earned from previous rounds.\n",
        "\n",
        "**Skill Groups**: A ranking system that places players in different skill groups based on their performance in competitive matches.\n",
        "\n",
        "**Esports: CS**\n",
        "is a major title in the esports scene, with professional teams competing in tournaments worldwide for significant prize money."
      ]
    },
    {
      "cell_type": "markdown",
      "metadata": {
        "id": "blqGpQUTsMQq"
      },
      "source": [
        "![CSGO.jfif](data:image/jpeg;base64,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)"
      ]
    },
    {
      "cell_type": "code",
      "execution_count": null,
      "metadata": {
        "id": "j7LIFKN3rX4d"
      },
      "outputs": [],
      "source": [
        "import pandas as pd #Data manipulation\n",
        "import numpy as np  #Numerical python\n",
        "import matplotlib.pyplot as plt #visualization\n",
        "import seaborn as sns #visualization\n"
      ]
    },
    {
      "cell_type": "markdown",
      "metadata": {
        "id": "hlKw0bPIuPRj"
      },
      "source": [
        "**About this file**\n",
        "\n",
        "The dataset consists of round snapshots from about 700 demos from high level tournament play in 2019 and 2020. Warmup rounds and restarts have been filtered, and for the remaining live rounds a round snapshot has been recorded every 20 seconds until the round is decided. Following its initial publication, It has been pre-processed and flattened to improve readability and make it easier for algorithms to process. The total number of snapshots is 122411. Snapshots are i.i.d and should be treated as individual data points, not as part of a match."
      ]
    },
    {
      "cell_type": "code",
      "execution_count": null,
      "metadata": {
        "id": "MN11u0mprxAM"
      },
      "outputs": [],
      "source": [
        "df=pd.read_csv(\"csgo_round_snapshots.csv\")"
      ]
    },
    {
      "cell_type": "code",
      "execution_count": null,
      "metadata": {
        "colab": {
          "base_uri": "https://localhost:8080/",
          "height": 255
        },
        "id": "Q9kDFKMar4ng",
        "outputId": "d6047306-890b-4508-8e87-b3630280cbfc"
      },
      "outputs": [
        {
          "output_type": "execute_result",
          "data": {
            "text/plain": [
              "   time_left  ct_score  t_score       map  bomb_planted  ct_health  t_health  \\\n",
              "0     175.00       0.0      0.0  de_dust2         False      500.0     500.0   \n",
              "1     156.03       0.0      0.0  de_dust2         False      500.0     500.0   \n",
              "2      96.03       0.0      0.0  de_dust2         False      391.0     400.0   \n",
              "3      76.03       0.0      0.0  de_dust2         False      391.0     400.0   \n",
              "4     174.97       1.0      0.0  de_dust2         False      500.0     500.0   \n",
              "\n",
              "   ct_armor  t_armor  ct_money  ...  t_grenade_flashbang  \\\n",
              "0       0.0      0.0    4000.0  ...                  0.0   \n",
              "1     400.0    300.0     600.0  ...                  0.0   \n",
              "2     294.0    200.0     750.0  ...                  0.0   \n",
              "3     294.0    200.0     750.0  ...                  0.0   \n",
              "4     192.0      0.0   18350.0  ...                  0.0   \n",
              "\n",
              "   ct_grenade_smokegrenade  t_grenade_smokegrenade  \\\n",
              "0                      0.0                     0.0   \n",
              "1                      0.0                     2.0   \n",
              "2                      0.0                     2.0   \n",
              "3                      0.0                     0.0   \n",
              "4                      0.0                     0.0   \n",
              "\n",
              "   ct_grenade_incendiarygrenade  t_grenade_incendiarygrenade  \\\n",
              "0                           0.0                          0.0   \n",
              "1                           0.0                          0.0   \n",
              "2                           0.0                          0.0   \n",
              "3                           0.0                          0.0   \n",
              "4                           0.0                          0.0   \n",
              "\n",
              "   ct_grenade_molotovgrenade  t_grenade_molotovgrenade  \\\n",
              "0                        0.0                       0.0   \n",
              "1                        0.0                       0.0   \n",
              "2                        0.0                       0.0   \n",
              "3                        0.0                       0.0   \n",
              "4                        0.0                       0.0   \n",
              "\n",
              "   ct_grenade_decoygrenade  t_grenade_decoygrenade  round_winner  \n",
              "0                      0.0                     0.0            CT  \n",
              "1                      0.0                     0.0            CT  \n",
              "2                      0.0                     0.0            CT  \n",
              "3                      0.0                     0.0            CT  \n",
              "4                      0.0                     0.0            CT  \n",
              "\n",
              "[5 rows x 97 columns]"
            ],
            "text/html": [
              "\n",
              "  <div id=\"df-7a7fabda-8ee1-4f2f-8ce2-e66710116bc7\" class=\"colab-df-container\">\n",
              "    <div>\n",
              "<style scoped>\n",
              "    .dataframe tbody tr th:only-of-type {\n",
              "        vertical-align: middle;\n",
              "    }\n",
              "\n",
              "    .dataframe tbody tr th {\n",
              "        vertical-align: top;\n",
              "    }\n",
              "\n",
              "    .dataframe thead th {\n",
              "        text-align: right;\n",
              "    }\n",
              "</style>\n",
              "<table border=\"1\" class=\"dataframe\">\n",
              "  <thead>\n",
              "    <tr style=\"text-align: right;\">\n",
              "      <th></th>\n",
              "      <th>time_left</th>\n",
              "      <th>ct_score</th>\n",
              "      <th>t_score</th>\n",
              "      <th>map</th>\n",
              "      <th>bomb_planted</th>\n",
              "      <th>ct_health</th>\n",
              "      <th>t_health</th>\n",
              "      <th>ct_armor</th>\n",
              "      <th>t_armor</th>\n",
              "      <th>ct_money</th>\n",
              "      <th>...</th>\n",
              "      <th>t_grenade_flashbang</th>\n",
              "      <th>ct_grenade_smokegrenade</th>\n",
              "      <th>t_grenade_smokegrenade</th>\n",
              "      <th>ct_grenade_incendiarygrenade</th>\n",
              "      <th>t_grenade_incendiarygrenade</th>\n",
              "      <th>ct_grenade_molotovgrenade</th>\n",
              "      <th>t_grenade_molotovgrenade</th>\n",
              "      <th>ct_grenade_decoygrenade</th>\n",
              "      <th>t_grenade_decoygrenade</th>\n",
              "      <th>round_winner</th>\n",
              "    </tr>\n",
              "  </thead>\n",
              "  <tbody>\n",
              "    <tr>\n",
              "      <th>0</th>\n",
              "      <td>175.00</td>\n",
              "      <td>0.0</td>\n",
              "      <td>0.0</td>\n",
              "      <td>de_dust2</td>\n",
              "      <td>False</td>\n",
              "      <td>500.0</td>\n",
              "      <td>500.0</td>\n",
              "      <td>0.0</td>\n",
              "      <td>0.0</td>\n",
              "      <td>4000.0</td>\n",
              "      <td>...</td>\n",
              "      <td>0.0</td>\n",
              "      <td>0.0</td>\n",
              "      <td>0.0</td>\n",
              "      <td>0.0</td>\n",
              "      <td>0.0</td>\n",
              "      <td>0.0</td>\n",
              "      <td>0.0</td>\n",
              "      <td>0.0</td>\n",
              "      <td>0.0</td>\n",
              "      <td>CT</td>\n",
              "    </tr>\n",
              "    <tr>\n",
              "      <th>1</th>\n",
              "      <td>156.03</td>\n",
              "      <td>0.0</td>\n",
              "      <td>0.0</td>\n",
              "      <td>de_dust2</td>\n",
              "      <td>False</td>\n",
              "      <td>500.0</td>\n",
              "      <td>500.0</td>\n",
              "      <td>400.0</td>\n",
              "      <td>300.0</td>\n",
              "      <td>600.0</td>\n",
              "      <td>...</td>\n",
              "      <td>0.0</td>\n",
              "      <td>0.0</td>\n",
              "      <td>2.0</td>\n",
              "      <td>0.0</td>\n",
              "      <td>0.0</td>\n",
              "      <td>0.0</td>\n",
              "      <td>0.0</td>\n",
              "      <td>0.0</td>\n",
              "      <td>0.0</td>\n",
              "      <td>CT</td>\n",
              "    </tr>\n",
              "    <tr>\n",
              "      <th>2</th>\n",
              "      <td>96.03</td>\n",
              "      <td>0.0</td>\n",
              "      <td>0.0</td>\n",
              "      <td>de_dust2</td>\n",
              "      <td>False</td>\n",
              "      <td>391.0</td>\n",
              "      <td>400.0</td>\n",
              "      <td>294.0</td>\n",
              "      <td>200.0</td>\n",
              "      <td>750.0</td>\n",
              "      <td>...</td>\n",
              "      <td>0.0</td>\n",
              "      <td>0.0</td>\n",
              "      <td>2.0</td>\n",
              "      <td>0.0</td>\n",
              "      <td>0.0</td>\n",
              "      <td>0.0</td>\n",
              "      <td>0.0</td>\n",
              "      <td>0.0</td>\n",
              "      <td>0.0</td>\n",
              "      <td>CT</td>\n",
              "    </tr>\n",
              "    <tr>\n",
              "      <th>3</th>\n",
              "      <td>76.03</td>\n",
              "      <td>0.0</td>\n",
              "      <td>0.0</td>\n",
              "      <td>de_dust2</td>\n",
              "      <td>False</td>\n",
              "      <td>391.0</td>\n",
              "      <td>400.0</td>\n",
              "      <td>294.0</td>\n",
              "      <td>200.0</td>\n",
              "      <td>750.0</td>\n",
              "      <td>...</td>\n",
              "      <td>0.0</td>\n",
              "      <td>0.0</td>\n",
              "      <td>0.0</td>\n",
              "      <td>0.0</td>\n",
              "      <td>0.0</td>\n",
              "      <td>0.0</td>\n",
              "      <td>0.0</td>\n",
              "      <td>0.0</td>\n",
              "      <td>0.0</td>\n",
              "      <td>CT</td>\n",
              "    </tr>\n",
              "    <tr>\n",
              "      <th>4</th>\n",
              "      <td>174.97</td>\n",
              "      <td>1.0</td>\n",
              "      <td>0.0</td>\n",
              "      <td>de_dust2</td>\n",
              "      <td>False</td>\n",
              "      <td>500.0</td>\n",
              "      <td>500.0</td>\n",
              "      <td>192.0</td>\n",
              "      <td>0.0</td>\n",
              "      <td>18350.0</td>\n",
              "      <td>...</td>\n",
              "      <td>0.0</td>\n",
              "      <td>0.0</td>\n",
              "      <td>0.0</td>\n",
              "      <td>0.0</td>\n",
              "      <td>0.0</td>\n",
              "      <td>0.0</td>\n",
              "      <td>0.0</td>\n",
              "      <td>0.0</td>\n",
              "      <td>0.0</td>\n",
              "      <td>CT</td>\n",
              "    </tr>\n",
              "  </tbody>\n",
              "</table>\n",
              "<p>5 rows × 97 columns</p>\n",
              "</div>\n",
              "    <div class=\"colab-df-buttons\">\n",
              "\n",
              "  <div class=\"colab-df-container\">\n",
              "    <button class=\"colab-df-convert\" onclick=\"convertToInteractive('df-7a7fabda-8ee1-4f2f-8ce2-e66710116bc7')\"\n",
              "            title=\"Convert this dataframe to an interactive table.\"\n",
              "            style=\"display:none;\">\n",
              "\n",
              "  <svg xmlns=\"http://www.w3.org/2000/svg\" height=\"24px\" viewBox=\"0 -960 960 960\">\n",
              "    <path d=\"M120-120v-720h720v720H120Zm60-500h600v-160H180v160Zm220 220h160v-160H400v160Zm0 220h160v-160H400v160ZM180-400h160v-160H180v160Zm440 0h160v-160H620v160ZM180-180h160v-160H180v160Zm440 0h160v-160H620v160Z\"/>\n",
              "  </svg>\n",
              "    </button>\n",
              "\n",
              "  <style>\n",
              "    .colab-df-container {\n",
              "      display:flex;\n",
              "      gap: 12px;\n",
              "    }\n",
              "\n",
              "    .colab-df-convert {\n",
              "      background-color: #E8F0FE;\n",
              "      border: none;\n",
              "      border-radius: 50%;\n",
              "      cursor: pointer;\n",
              "      display: none;\n",
              "      fill: #1967D2;\n",
              "      height: 32px;\n",
              "      padding: 0 0 0 0;\n",
              "      width: 32px;\n",
              "    }\n",
              "\n",
              "    .colab-df-convert:hover {\n",
              "      background-color: #E2EBFA;\n",
              "      box-shadow: 0px 1px 2px rgba(60, 64, 67, 0.3), 0px 1px 3px 1px rgba(60, 64, 67, 0.15);\n",
              "      fill: #174EA6;\n",
              "    }\n",
              "\n",
              "    .colab-df-buttons div {\n",
              "      margin-bottom: 4px;\n",
              "    }\n",
              "\n",
              "    [theme=dark] .colab-df-convert {\n",
              "      background-color: #3B4455;\n",
              "      fill: #D2E3FC;\n",
              "    }\n",
              "\n",
              "    [theme=dark] .colab-df-convert:hover {\n",
              "      background-color: #434B5C;\n",
              "      box-shadow: 0px 1px 3px 1px rgba(0, 0, 0, 0.15);\n",
              "      filter: drop-shadow(0px 1px 2px rgba(0, 0, 0, 0.3));\n",
              "      fill: #FFFFFF;\n",
              "    }\n",
              "  </style>\n",
              "\n",
              "    <script>\n",
              "      const buttonEl =\n",
              "        document.querySelector('#df-7a7fabda-8ee1-4f2f-8ce2-e66710116bc7 button.colab-df-convert');\n",
              "      buttonEl.style.display =\n",
              "        google.colab.kernel.accessAllowed ? 'block' : 'none';\n",
              "\n",
              "      async function convertToInteractive(key) {\n",
              "        const element = document.querySelector('#df-7a7fabda-8ee1-4f2f-8ce2-e66710116bc7');\n",
              "        const dataTable =\n",
              "          await google.colab.kernel.invokeFunction('convertToInteractive',\n",
              "                                                    [key], {});\n",
              "        if (!dataTable) return;\n",
              "\n",
              "        const docLinkHtml = 'Like what you see? Visit the ' +\n",
              "          '<a target=\"_blank\" href=https://colab.research.google.com/notebooks/data_table.ipynb>data table notebook</a>'\n",
              "          + ' to learn more about interactive tables.';\n",
              "        element.innerHTML = '';\n",
              "        dataTable['output_type'] = 'display_data';\n",
              "        await google.colab.output.renderOutput(dataTable, element);\n",
              "        const docLink = document.createElement('div');\n",
              "        docLink.innerHTML = docLinkHtml;\n",
              "        element.appendChild(docLink);\n",
              "      }\n",
              "    </script>\n",
              "  </div>\n",
              "\n",
              "\n",
              "<div id=\"df-3f85e301-e8e6-4785-bace-35f092566580\">\n",
              "  <button class=\"colab-df-quickchart\" onclick=\"quickchart('df-3f85e301-e8e6-4785-bace-35f092566580')\"\n",
              "            title=\"Suggest charts\"\n",
              "            style=\"display:none;\">\n",
              "\n",
              "<svg xmlns=\"http://www.w3.org/2000/svg\" height=\"24px\"viewBox=\"0 0 24 24\"\n",
              "     width=\"24px\">\n",
              "    <g>\n",
              "        <path d=\"M19 3H5c-1.1 0-2 .9-2 2v14c0 1.1.9 2 2 2h14c1.1 0 2-.9 2-2V5c0-1.1-.9-2-2-2zM9 17H7v-7h2v7zm4 0h-2V7h2v10zm4 0h-2v-4h2v4z\"/>\n",
              "    </g>\n",
              "</svg>\n",
              "  </button>\n",
              "\n",
              "<style>\n",
              "  .colab-df-quickchart {\n",
              "      --bg-color: #E8F0FE;\n",
              "      --fill-color: #1967D2;\n",
              "      --hover-bg-color: #E2EBFA;\n",
              "      --hover-fill-color: #174EA6;\n",
              "      --disabled-fill-color: #AAA;\n",
              "      --disabled-bg-color: #DDD;\n",
              "  }\n",
              "\n",
              "  [theme=dark] .colab-df-quickchart {\n",
              "      --bg-color: #3B4455;\n",
              "      --fill-color: #D2E3FC;\n",
              "      --hover-bg-color: #434B5C;\n",
              "      --hover-fill-color: #FFFFFF;\n",
              "      --disabled-bg-color: #3B4455;\n",
              "      --disabled-fill-color: #666;\n",
              "  }\n",
              "\n",
              "  .colab-df-quickchart {\n",
              "    background-color: var(--bg-color);\n",
              "    border: none;\n",
              "    border-radius: 50%;\n",
              "    cursor: pointer;\n",
              "    display: none;\n",
              "    fill: var(--fill-color);\n",
              "    height: 32px;\n",
              "    padding: 0;\n",
              "    width: 32px;\n",
              "  }\n",
              "\n",
              "  .colab-df-quickchart:hover {\n",
              "    background-color: var(--hover-bg-color);\n",
              "    box-shadow: 0 1px 2px rgba(60, 64, 67, 0.3), 0 1px 3px 1px rgba(60, 64, 67, 0.15);\n",
              "    fill: var(--button-hover-fill-color);\n",
              "  }\n",
              "\n",
              "  .colab-df-quickchart-complete:disabled,\n",
              "  .colab-df-quickchart-complete:disabled:hover {\n",
              "    background-color: var(--disabled-bg-color);\n",
              "    fill: var(--disabled-fill-color);\n",
              "    box-shadow: none;\n",
              "  }\n",
              "\n",
              "  .colab-df-spinner {\n",
              "    border: 2px solid var(--fill-color);\n",
              "    border-color: transparent;\n",
              "    border-bottom-color: var(--fill-color);\n",
              "    animation:\n",
              "      spin 1s steps(1) infinite;\n",
              "  }\n",
              "\n",
              "  @keyframes spin {\n",
              "    0% {\n",
              "      border-color: transparent;\n",
              "      border-bottom-color: var(--fill-color);\n",
              "      border-left-color: var(--fill-color);\n",
              "    }\n",
              "    20% {\n",
              "      border-color: transparent;\n",
              "      border-left-color: var(--fill-color);\n",
              "      border-top-color: var(--fill-color);\n",
              "    }\n",
              "    30% {\n",
              "      border-color: transparent;\n",
              "      border-left-color: var(--fill-color);\n",
              "      border-top-color: var(--fill-color);\n",
              "      border-right-color: var(--fill-color);\n",
              "    }\n",
              "    40% {\n",
              "      border-color: transparent;\n",
              "      border-right-color: var(--fill-color);\n",
              "      border-top-color: var(--fill-color);\n",
              "    }\n",
              "    60% {\n",
              "      border-color: transparent;\n",
              "      border-right-color: var(--fill-color);\n",
              "    }\n",
              "    80% {\n",
              "      border-color: transparent;\n",
              "      border-right-color: var(--fill-color);\n",
              "      border-bottom-color: var(--fill-color);\n",
              "    }\n",
              "    90% {\n",
              "      border-color: transparent;\n",
              "      border-bottom-color: var(--fill-color);\n",
              "    }\n",
              "  }\n",
              "</style>\n",
              "\n",
              "  <script>\n",
              "    async function quickchart(key) {\n",
              "      const quickchartButtonEl =\n",
              "        document.querySelector('#' + key + ' button');\n",
              "      quickchartButtonEl.disabled = true;  // To prevent multiple clicks.\n",
              "      quickchartButtonEl.classList.add('colab-df-spinner');\n",
              "      try {\n",
              "        const charts = await google.colab.kernel.invokeFunction(\n",
              "            'suggestCharts', [key], {});\n",
              "      } catch (error) {\n",
              "        console.error('Error during call to suggestCharts:', error);\n",
              "      }\n",
              "      quickchartButtonEl.classList.remove('colab-df-spinner');\n",
              "      quickchartButtonEl.classList.add('colab-df-quickchart-complete');\n",
              "    }\n",
              "    (() => {\n",
              "      let quickchartButtonEl =\n",
              "        document.querySelector('#df-3f85e301-e8e6-4785-bace-35f092566580 button');\n",
              "      quickchartButtonEl.style.display =\n",
              "        google.colab.kernel.accessAllowed ? 'block' : 'none';\n",
              "    })();\n",
              "  </script>\n",
              "</div>\n",
              "\n",
              "    </div>\n",
              "  </div>\n"
            ],
            "application/vnd.google.colaboratory.intrinsic+json": {
              "type": "dataframe",
              "variable_name": "df"
            }
          },
          "metadata": {},
          "execution_count": 54
        }
      ],
      "source": [
        "df.head()"
      ]
    },
    {
      "cell_type": "code",
      "execution_count": null,
      "metadata": {
        "colab": {
          "base_uri": "https://localhost:8080/",
          "height": 178
        },
        "id": "ZxMfiTGIpi8C",
        "outputId": "a4c95f3f-bae3-4974-e039-279bff5dac2c"
      },
      "outputs": [
        {
          "output_type": "execute_result",
          "data": {
            "text/plain": [
              "round_winner\n",
              "T     62406\n",
              "CT    60004\n",
              "Name: count, dtype: int64"
            ],
            "text/html": [
              "<div>\n",
              "<style scoped>\n",
              "    .dataframe tbody tr th:only-of-type {\n",
              "        vertical-align: middle;\n",
              "    }\n",
              "\n",
              "    .dataframe tbody tr th {\n",
              "        vertical-align: top;\n",
              "    }\n",
              "\n",
              "    .dataframe thead th {\n",
              "        text-align: right;\n",
              "    }\n",
              "</style>\n",
              "<table border=\"1\" class=\"dataframe\">\n",
              "  <thead>\n",
              "    <tr style=\"text-align: right;\">\n",
              "      <th></th>\n",
              "      <th>count</th>\n",
              "    </tr>\n",
              "    <tr>\n",
              "      <th>round_winner</th>\n",
              "      <th></th>\n",
              "    </tr>\n",
              "  </thead>\n",
              "  <tbody>\n",
              "    <tr>\n",
              "      <th>T</th>\n",
              "      <td>62406</td>\n",
              "    </tr>\n",
              "    <tr>\n",
              "      <th>CT</th>\n",
              "      <td>60004</td>\n",
              "    </tr>\n",
              "  </tbody>\n",
              "</table>\n",
              "</div><br><label><b>dtype:</b> int64</label>"
            ]
          },
          "metadata": {},
          "execution_count": 55
        }
      ],
      "source": [
        "#almost balanced dataset\n",
        "df['round_winner'].value_counts()"
      ]
    },
    {
      "cell_type": "code",
      "execution_count": null,
      "metadata": {
        "colab": {
          "base_uri": "https://localhost:8080/"
        },
        "id": "xguo-Hmcr6Hk",
        "outputId": "d0acd11d-f733-4b20-b865-18f988928b9e"
      },
      "outputs": [
        {
          "output_type": "execute_result",
          "data": {
            "text/plain": [
              "(122410, 97)"
            ]
          },
          "metadata": {},
          "execution_count": 56
        }
      ],
      "source": [
        "df.shape"
      ]
    },
    {
      "cell_type": "code",
      "execution_count": null,
      "metadata": {
        "colab": {
          "base_uri": "https://localhost:8080/"
        },
        "id": "oEoevdt-oBZF",
        "outputId": "12c0c4ec-0ca9-4d59-dacd-d2fabcfb0ee5"
      },
      "outputs": [
        {
          "output_type": "execute_result",
          "data": {
            "text/plain": [
              "Index(['time_left', 'ct_score', 't_score', 'map', 'bomb_planted', 'ct_health',\n",
              "       't_health', 'ct_armor', 't_armor', 'ct_money', 't_money', 'ct_helmets',\n",
              "       't_helmets', 'ct_defuse_kits', 'ct_players_alive', 't_players_alive',\n",
              "       'ct_weapon_ak47', 't_weapon_ak47', 'ct_weapon_aug', 't_weapon_aug',\n",
              "       'ct_weapon_awp', 't_weapon_awp', 'ct_weapon_bizon', 't_weapon_bizon',\n",
              "       'ct_weapon_cz75auto', 't_weapon_cz75auto', 'ct_weapon_elite',\n",
              "       't_weapon_elite', 'ct_weapon_famas', 't_weapon_famas',\n",
              "       'ct_weapon_g3sg1', 't_weapon_g3sg1', 'ct_weapon_galilar',\n",
              "       't_weapon_galilar', 'ct_weapon_glock', 't_weapon_glock',\n",
              "       'ct_weapon_m249', 't_weapon_m249', 'ct_weapon_m4a1s', 't_weapon_m4a1s',\n",
              "       'ct_weapon_m4a4', 't_weapon_m4a4', 'ct_weapon_mac10', 't_weapon_mac10',\n",
              "       'ct_weapon_mag7', 't_weapon_mag7', 'ct_weapon_mp5sd', 't_weapon_mp5sd',\n",
              "       'ct_weapon_mp7', 't_weapon_mp7', 'ct_weapon_mp9', 't_weapon_mp9',\n",
              "       'ct_weapon_negev', 't_weapon_negev', 'ct_weapon_nova', 't_weapon_nova',\n",
              "       'ct_weapon_p90', 't_weapon_p90', 'ct_weapon_r8revolver',\n",
              "       't_weapon_r8revolver', 'ct_weapon_sawedoff', 't_weapon_sawedoff',\n",
              "       'ct_weapon_scar20', 't_weapon_scar20', 'ct_weapon_sg553',\n",
              "       't_weapon_sg553', 'ct_weapon_ssg08', 't_weapon_ssg08',\n",
              "       'ct_weapon_ump45', 't_weapon_ump45', 'ct_weapon_xm1014',\n",
              "       't_weapon_xm1014', 'ct_weapon_deagle', 't_weapon_deagle',\n",
              "       'ct_weapon_fiveseven', 't_weapon_fiveseven', 'ct_weapon_usps',\n",
              "       't_weapon_usps', 'ct_weapon_p250', 't_weapon_p250', 'ct_weapon_p2000',\n",
              "       't_weapon_p2000', 'ct_weapon_tec9', 't_weapon_tec9',\n",
              "       'ct_grenade_hegrenade', 't_grenade_hegrenade', 'ct_grenade_flashbang',\n",
              "       't_grenade_flashbang', 'ct_grenade_smokegrenade',\n",
              "       't_grenade_smokegrenade', 'ct_grenade_incendiarygrenade',\n",
              "       't_grenade_incendiarygrenade', 'ct_grenade_molotovgrenade',\n",
              "       't_grenade_molotovgrenade', 'ct_grenade_decoygrenade',\n",
              "       't_grenade_decoygrenade', 'round_winner'],\n",
              "      dtype='object')"
            ]
          },
          "metadata": {},
          "execution_count": 57
        }
      ],
      "source": [
        "df.columns"
      ]
    },
    {
      "cell_type": "code",
      "execution_count": null,
      "metadata": {
        "colab": {
          "base_uri": "https://localhost:8080/"
        },
        "id": "O5O1XGA0r7ma",
        "outputId": "f44ad6b9-ecf4-4732-a846-5b04ab47a249"
      },
      "outputs": [
        {
          "output_type": "stream",
          "name": "stdout",
          "text": [
            "<class 'pandas.core.frame.DataFrame'>\n",
            "RangeIndex: 122410 entries, 0 to 122409\n",
            "Data columns (total 97 columns):\n",
            " #   Column                        Non-Null Count   Dtype  \n",
            "---  ------                        --------------   -----  \n",
            " 0   time_left                     122410 non-null  float64\n",
            " 1   ct_score                      122410 non-null  float64\n",
            " 2   t_score                       122410 non-null  float64\n",
            " 3   map                           122410 non-null  object \n",
            " 4   bomb_planted                  122410 non-null  bool   \n",
            " 5   ct_health                     122410 non-null  float64\n",
            " 6   t_health                      122410 non-null  float64\n",
            " 7   ct_armor                      122410 non-null  float64\n",
            " 8   t_armor                       122410 non-null  float64\n",
            " 9   ct_money                      122410 non-null  float64\n",
            " 10  t_money                       122410 non-null  float64\n",
            " 11  ct_helmets                    122410 non-null  float64\n",
            " 12  t_helmets                     122410 non-null  float64\n",
            " 13  ct_defuse_kits                122410 non-null  float64\n",
            " 14  ct_players_alive              122410 non-null  float64\n",
            " 15  t_players_alive               122410 non-null  float64\n",
            " 16  ct_weapon_ak47                122410 non-null  float64\n",
            " 17  t_weapon_ak47                 122410 non-null  float64\n",
            " 18  ct_weapon_aug                 122410 non-null  float64\n",
            " 19  t_weapon_aug                  122410 non-null  float64\n",
            " 20  ct_weapon_awp                 122410 non-null  float64\n",
            " 21  t_weapon_awp                  122410 non-null  float64\n",
            " 22  ct_weapon_bizon               122410 non-null  float64\n",
            " 23  t_weapon_bizon                122410 non-null  float64\n",
            " 24  ct_weapon_cz75auto            122410 non-null  float64\n",
            " 25  t_weapon_cz75auto             122410 non-null  float64\n",
            " 26  ct_weapon_elite               122410 non-null  float64\n",
            " 27  t_weapon_elite                122410 non-null  float64\n",
            " 28  ct_weapon_famas               122410 non-null  float64\n",
            " 29  t_weapon_famas                122410 non-null  float64\n",
            " 30  ct_weapon_g3sg1               122410 non-null  float64\n",
            " 31  t_weapon_g3sg1                122410 non-null  float64\n",
            " 32  ct_weapon_galilar             122410 non-null  float64\n",
            " 33  t_weapon_galilar              122410 non-null  float64\n",
            " 34  ct_weapon_glock               122410 non-null  float64\n",
            " 35  t_weapon_glock                122410 non-null  float64\n",
            " 36  ct_weapon_m249                122410 non-null  float64\n",
            " 37  t_weapon_m249                 122410 non-null  float64\n",
            " 38  ct_weapon_m4a1s               122410 non-null  float64\n",
            " 39  t_weapon_m4a1s                122410 non-null  float64\n",
            " 40  ct_weapon_m4a4                122410 non-null  float64\n",
            " 41  t_weapon_m4a4                 122410 non-null  float64\n",
            " 42  ct_weapon_mac10               122410 non-null  float64\n",
            " 43  t_weapon_mac10                122410 non-null  float64\n",
            " 44  ct_weapon_mag7                122410 non-null  float64\n",
            " 45  t_weapon_mag7                 122410 non-null  float64\n",
            " 46  ct_weapon_mp5sd               122410 non-null  float64\n",
            " 47  t_weapon_mp5sd                122410 non-null  float64\n",
            " 48  ct_weapon_mp7                 122410 non-null  float64\n",
            " 49  t_weapon_mp7                  122410 non-null  float64\n",
            " 50  ct_weapon_mp9                 122410 non-null  float64\n",
            " 51  t_weapon_mp9                  122410 non-null  float64\n",
            " 52  ct_weapon_negev               122410 non-null  float64\n",
            " 53  t_weapon_negev                122410 non-null  float64\n",
            " 54  ct_weapon_nova                122410 non-null  float64\n",
            " 55  t_weapon_nova                 122410 non-null  float64\n",
            " 56  ct_weapon_p90                 122410 non-null  float64\n",
            " 57  t_weapon_p90                  122410 non-null  float64\n",
            " 58  ct_weapon_r8revolver          122410 non-null  float64\n",
            " 59  t_weapon_r8revolver           122410 non-null  float64\n",
            " 60  ct_weapon_sawedoff            122410 non-null  float64\n",
            " 61  t_weapon_sawedoff             122410 non-null  float64\n",
            " 62  ct_weapon_scar20              122410 non-null  float64\n",
            " 63  t_weapon_scar20               122410 non-null  float64\n",
            " 64  ct_weapon_sg553               122410 non-null  float64\n",
            " 65  t_weapon_sg553                122410 non-null  float64\n",
            " 66  ct_weapon_ssg08               122410 non-null  float64\n",
            " 67  t_weapon_ssg08                122410 non-null  float64\n",
            " 68  ct_weapon_ump45               122410 non-null  float64\n",
            " 69  t_weapon_ump45                122410 non-null  float64\n",
            " 70  ct_weapon_xm1014              122410 non-null  float64\n",
            " 71  t_weapon_xm1014               122410 non-null  float64\n",
            " 72  ct_weapon_deagle              122410 non-null  float64\n",
            " 73  t_weapon_deagle               122410 non-null  float64\n",
            " 74  ct_weapon_fiveseven           122410 non-null  float64\n",
            " 75  t_weapon_fiveseven            122410 non-null  float64\n",
            " 76  ct_weapon_usps                122410 non-null  float64\n",
            " 77  t_weapon_usps                 122410 non-null  float64\n",
            " 78  ct_weapon_p250                122410 non-null  float64\n",
            " 79  t_weapon_p250                 122410 non-null  float64\n",
            " 80  ct_weapon_p2000               122410 non-null  float64\n",
            " 81  t_weapon_p2000                122410 non-null  float64\n",
            " 82  ct_weapon_tec9                122410 non-null  float64\n",
            " 83  t_weapon_tec9                 122410 non-null  float64\n",
            " 84  ct_grenade_hegrenade          122410 non-null  float64\n",
            " 85  t_grenade_hegrenade           122410 non-null  float64\n",
            " 86  ct_grenade_flashbang          122410 non-null  float64\n",
            " 87  t_grenade_flashbang           122410 non-null  float64\n",
            " 88  ct_grenade_smokegrenade       122410 non-null  float64\n",
            " 89  t_grenade_smokegrenade        122410 non-null  float64\n",
            " 90  ct_grenade_incendiarygrenade  122410 non-null  float64\n",
            " 91  t_grenade_incendiarygrenade   122410 non-null  float64\n",
            " 92  ct_grenade_molotovgrenade     122410 non-null  float64\n",
            " 93  t_grenade_molotovgrenade      122410 non-null  float64\n",
            " 94  ct_grenade_decoygrenade       122410 non-null  float64\n",
            " 95  t_grenade_decoygrenade        122410 non-null  float64\n",
            " 96  round_winner                  122410 non-null  object \n",
            "dtypes: bool(1), float64(94), object(2)\n",
            "memory usage: 89.8+ MB\n"
          ]
        }
      ],
      "source": [
        "df.info()  #information"
      ]
    },
    {
      "cell_type": "code",
      "execution_count": null,
      "metadata": {
        "colab": {
          "base_uri": "https://localhost:8080/",
          "height": 349
        },
        "id": "T5UGXeYvr-sX",
        "outputId": "20eba8d7-1d25-4e5f-ce0b-ffdc1dda553f"
      },
      "outputs": [
        {
          "output_type": "execute_result",
          "data": {
            "text/plain": [
              "       time_left  ct_score   t_score  ct_health  t_health  ct_armor   t_armor  \\\n",
              "count   122410.0  122410.0  122410.0   122410.0  122410.0  122410.0  122410.0   \n",
              "mean        98.0       7.0       7.0      412.0     403.0     314.0     298.0   \n",
              "std         54.0       5.0       5.0      132.0     140.0     171.0     175.0   \n",
              "min          0.0       0.0       0.0        0.0       0.0       0.0       0.0   \n",
              "25%         55.0       3.0       3.0      350.0     322.0     194.0     174.0   \n",
              "50%         95.0       6.0       6.0      500.0     500.0     377.0     334.0   \n",
              "75%        167.0      10.0      10.0      500.0     500.0     486.0     468.0   \n",
              "max        175.0      32.0      33.0      500.0     600.0     500.0     500.0   \n",
              "\n",
              "       ct_money   t_money  ct_helmets  ...  ct_grenade_flashbang  \\\n",
              "count  122410.0  122410.0    122410.0  ...              122410.0   \n",
              "mean     9789.0   11241.0         2.0  ...                   2.0   \n",
              "std     11215.0   12163.0         2.0  ...                   2.0   \n",
              "min         0.0       0.0         0.0  ...                   0.0   \n",
              "25%      1300.0    1550.0         0.0  ...                   0.0   \n",
              "50%      5500.0    7150.0         2.0  ...                   1.0   \n",
              "75%     14600.0   18000.0         4.0  ...                   3.0   \n",
              "max     80000.0   80000.0         5.0  ...                   7.0   \n",
              "\n",
              "       t_grenade_flashbang  ct_grenade_smokegrenade  t_grenade_smokegrenade  \\\n",
              "count             122410.0                 122410.0                122410.0   \n",
              "mean                   2.0                      2.0                     2.0   \n",
              "std                    2.0                      2.0                     2.0   \n",
              "min                    0.0                      0.0                     0.0   \n",
              "25%                    0.0                      0.0                     0.0   \n",
              "50%                    1.0                      1.0                     1.0   \n",
              "75%                    3.0                      3.0                     3.0   \n",
              "max                    7.0                      6.0                     9.0   \n",
              "\n",
              "       ct_grenade_incendiarygrenade  t_grenade_incendiarygrenade  \\\n",
              "count                      122410.0                     122410.0   \n",
              "mean                            1.0                          0.0   \n",
              "std                             1.0                          0.0   \n",
              "min                             0.0                          0.0   \n",
              "25%                             0.0                          0.0   \n",
              "50%                             0.0                          0.0   \n",
              "75%                             2.0                          0.0   \n",
              "max                             5.0                          3.0   \n",
              "\n",
              "       ct_grenade_molotovgrenade  t_grenade_molotovgrenade  \\\n",
              "count                   122410.0                  122410.0   \n",
              "mean                         0.0                       1.0   \n",
              "std                          0.0                       2.0   \n",
              "min                          0.0                       0.0   \n",
              "25%                          0.0                       0.0   \n",
              "50%                          0.0                       1.0   \n",
              "75%                          0.0                       2.0   \n",
              "max                          3.0                       5.0   \n",
              "\n",
              "       ct_grenade_decoygrenade  t_grenade_decoygrenade  \n",
              "count                 122410.0                122410.0  \n",
              "mean                       0.0                     0.0  \n",
              "std                        0.0                     0.0  \n",
              "min                        0.0                     0.0  \n",
              "25%                        0.0                     0.0  \n",
              "50%                        0.0                     0.0  \n",
              "75%                        0.0                     0.0  \n",
              "max                        3.0                     2.0  \n",
              "\n",
              "[8 rows x 94 columns]"
            ],
            "text/html": [
              "\n",
              "  <div id=\"df-074329d1-e9cb-4e9d-bf44-c0d514ed831a\" class=\"colab-df-container\">\n",
              "    <div>\n",
              "<style scoped>\n",
              "    .dataframe tbody tr th:only-of-type {\n",
              "        vertical-align: middle;\n",
              "    }\n",
              "\n",
              "    .dataframe tbody tr th {\n",
              "        vertical-align: top;\n",
              "    }\n",
              "\n",
              "    .dataframe thead th {\n",
              "        text-align: right;\n",
              "    }\n",
              "</style>\n",
              "<table border=\"1\" class=\"dataframe\">\n",
              "  <thead>\n",
              "    <tr style=\"text-align: right;\">\n",
              "      <th></th>\n",
              "      <th>time_left</th>\n",
              "      <th>ct_score</th>\n",
              "      <th>t_score</th>\n",
              "      <th>ct_health</th>\n",
              "      <th>t_health</th>\n",
              "      <th>ct_armor</th>\n",
              "      <th>t_armor</th>\n",
              "      <th>ct_money</th>\n",
              "      <th>t_money</th>\n",
              "      <th>ct_helmets</th>\n",
              "      <th>...</th>\n",
              "      <th>ct_grenade_flashbang</th>\n",
              "      <th>t_grenade_flashbang</th>\n",
              "      <th>ct_grenade_smokegrenade</th>\n",
              "      <th>t_grenade_smokegrenade</th>\n",
              "      <th>ct_grenade_incendiarygrenade</th>\n",
              "      <th>t_grenade_incendiarygrenade</th>\n",
              "      <th>ct_grenade_molotovgrenade</th>\n",
              "      <th>t_grenade_molotovgrenade</th>\n",
              "      <th>ct_grenade_decoygrenade</th>\n",
              "      <th>t_grenade_decoygrenade</th>\n",
              "    </tr>\n",
              "  </thead>\n",
              "  <tbody>\n",
              "    <tr>\n",
              "      <th>count</th>\n",
              "      <td>122410.0</td>\n",
              "      <td>122410.0</td>\n",
              "      <td>122410.0</td>\n",
              "      <td>122410.0</td>\n",
              "      <td>122410.0</td>\n",
              "      <td>122410.0</td>\n",
              "      <td>122410.0</td>\n",
              "      <td>122410.0</td>\n",
              "      <td>122410.0</td>\n",
              "      <td>122410.0</td>\n",
              "      <td>...</td>\n",
              "      <td>122410.0</td>\n",
              "      <td>122410.0</td>\n",
              "      <td>122410.0</td>\n",
              "      <td>122410.0</td>\n",
              "      <td>122410.0</td>\n",
              "      <td>122410.0</td>\n",
              "      <td>122410.0</td>\n",
              "      <td>122410.0</td>\n",
              "      <td>122410.0</td>\n",
              "      <td>122410.0</td>\n",
              "    </tr>\n",
              "    <tr>\n",
              "      <th>mean</th>\n",
              "      <td>98.0</td>\n",
              "      <td>7.0</td>\n",
              "      <td>7.0</td>\n",
              "      <td>412.0</td>\n",
              "      <td>403.0</td>\n",
              "      <td>314.0</td>\n",
              "      <td>298.0</td>\n",
              "      <td>9789.0</td>\n",
              "      <td>11241.0</td>\n",
              "      <td>2.0</td>\n",
              "      <td>...</td>\n",
              "      <td>2.0</td>\n",
              "      <td>2.0</td>\n",
              "      <td>2.0</td>\n",
              "      <td>2.0</td>\n",
              "      <td>1.0</td>\n",
              "      <td>0.0</td>\n",
              "      <td>0.0</td>\n",
              "      <td>1.0</td>\n",
              "      <td>0.0</td>\n",
              "      <td>0.0</td>\n",
              "    </tr>\n",
              "    <tr>\n",
              "      <th>std</th>\n",
              "      <td>54.0</td>\n",
              "      <td>5.0</td>\n",
              "      <td>5.0</td>\n",
              "      <td>132.0</td>\n",
              "      <td>140.0</td>\n",
              "      <td>171.0</td>\n",
              "      <td>175.0</td>\n",
              "      <td>11215.0</td>\n",
              "      <td>12163.0</td>\n",
              "      <td>2.0</td>\n",
              "      <td>...</td>\n",
              "      <td>2.0</td>\n",
              "      <td>2.0</td>\n",
              "      <td>2.0</td>\n",
              "      <td>2.0</td>\n",
              "      <td>1.0</td>\n",
              "      <td>0.0</td>\n",
              "      <td>0.0</td>\n",
              "      <td>2.0</td>\n",
              "      <td>0.0</td>\n",
              "      <td>0.0</td>\n",
              "    </tr>\n",
              "    <tr>\n",
              "      <th>min</th>\n",
              "      <td>0.0</td>\n",
              "      <td>0.0</td>\n",
              "      <td>0.0</td>\n",
              "      <td>0.0</td>\n",
              "      <td>0.0</td>\n",
              "      <td>0.0</td>\n",
              "      <td>0.0</td>\n",
              "      <td>0.0</td>\n",
              "      <td>0.0</td>\n",
              "      <td>0.0</td>\n",
              "      <td>...</td>\n",
              "      <td>0.0</td>\n",
              "      <td>0.0</td>\n",
              "      <td>0.0</td>\n",
              "      <td>0.0</td>\n",
              "      <td>0.0</td>\n",
              "      <td>0.0</td>\n",
              "      <td>0.0</td>\n",
              "      <td>0.0</td>\n",
              "      <td>0.0</td>\n",
              "      <td>0.0</td>\n",
              "    </tr>\n",
              "    <tr>\n",
              "      <th>25%</th>\n",
              "      <td>55.0</td>\n",
              "      <td>3.0</td>\n",
              "      <td>3.0</td>\n",
              "      <td>350.0</td>\n",
              "      <td>322.0</td>\n",
              "      <td>194.0</td>\n",
              "      <td>174.0</td>\n",
              "      <td>1300.0</td>\n",
              "      <td>1550.0</td>\n",
              "      <td>0.0</td>\n",
              "      <td>...</td>\n",
              "      <td>0.0</td>\n",
              "      <td>0.0</td>\n",
              "      <td>0.0</td>\n",
              "      <td>0.0</td>\n",
              "      <td>0.0</td>\n",
              "      <td>0.0</td>\n",
              "      <td>0.0</td>\n",
              "      <td>0.0</td>\n",
              "      <td>0.0</td>\n",
              "      <td>0.0</td>\n",
              "    </tr>\n",
              "    <tr>\n",
              "      <th>50%</th>\n",
              "      <td>95.0</td>\n",
              "      <td>6.0</td>\n",
              "      <td>6.0</td>\n",
              "      <td>500.0</td>\n",
              "      <td>500.0</td>\n",
              "      <td>377.0</td>\n",
              "      <td>334.0</td>\n",
              "      <td>5500.0</td>\n",
              "      <td>7150.0</td>\n",
              "      <td>2.0</td>\n",
              "      <td>...</td>\n",
              "      <td>1.0</td>\n",
              "      <td>1.0</td>\n",
              "      <td>1.0</td>\n",
              "      <td>1.0</td>\n",
              "      <td>0.0</td>\n",
              "      <td>0.0</td>\n",
              "      <td>0.0</td>\n",
              "      <td>1.0</td>\n",
              "      <td>0.0</td>\n",
              "      <td>0.0</td>\n",
              "    </tr>\n",
              "    <tr>\n",
              "      <th>75%</th>\n",
              "      <td>167.0</td>\n",
              "      <td>10.0</td>\n",
              "      <td>10.0</td>\n",
              "      <td>500.0</td>\n",
              "      <td>500.0</td>\n",
              "      <td>486.0</td>\n",
              "      <td>468.0</td>\n",
              "      <td>14600.0</td>\n",
              "      <td>18000.0</td>\n",
              "      <td>4.0</td>\n",
              "      <td>...</td>\n",
              "      <td>3.0</td>\n",
              "      <td>3.0</td>\n",
              "      <td>3.0</td>\n",
              "      <td>3.0</td>\n",
              "      <td>2.0</td>\n",
              "      <td>0.0</td>\n",
              "      <td>0.0</td>\n",
              "      <td>2.0</td>\n",
              "      <td>0.0</td>\n",
              "      <td>0.0</td>\n",
              "    </tr>\n",
              "    <tr>\n",
              "      <th>max</th>\n",
              "      <td>175.0</td>\n",
              "      <td>32.0</td>\n",
              "      <td>33.0</td>\n",
              "      <td>500.0</td>\n",
              "      <td>600.0</td>\n",
              "      <td>500.0</td>\n",
              "      <td>500.0</td>\n",
              "      <td>80000.0</td>\n",
              "      <td>80000.0</td>\n",
              "      <td>5.0</td>\n",
              "      <td>...</td>\n",
              "      <td>7.0</td>\n",
              "      <td>7.0</td>\n",
              "      <td>6.0</td>\n",
              "      <td>9.0</td>\n",
              "      <td>5.0</td>\n",
              "      <td>3.0</td>\n",
              "      <td>3.0</td>\n",
              "      <td>5.0</td>\n",
              "      <td>3.0</td>\n",
              "      <td>2.0</td>\n",
              "    </tr>\n",
              "  </tbody>\n",
              "</table>\n",
              "<p>8 rows × 94 columns</p>\n",
              "</div>\n",
              "    <div class=\"colab-df-buttons\">\n",
              "\n",
              "  <div class=\"colab-df-container\">\n",
              "    <button class=\"colab-df-convert\" onclick=\"convertToInteractive('df-074329d1-e9cb-4e9d-bf44-c0d514ed831a')\"\n",
              "            title=\"Convert this dataframe to an interactive table.\"\n",
              "            style=\"display:none;\">\n",
              "\n",
              "  <svg xmlns=\"http://www.w3.org/2000/svg\" height=\"24px\" viewBox=\"0 -960 960 960\">\n",
              "    <path d=\"M120-120v-720h720v720H120Zm60-500h600v-160H180v160Zm220 220h160v-160H400v160Zm0 220h160v-160H400v160ZM180-400h160v-160H180v160Zm440 0h160v-160H620v160ZM180-180h160v-160H180v160Zm440 0h160v-160H620v160Z\"/>\n",
              "  </svg>\n",
              "    </button>\n",
              "\n",
              "  <style>\n",
              "    .colab-df-container {\n",
              "      display:flex;\n",
              "      gap: 12px;\n",
              "    }\n",
              "\n",
              "    .colab-df-convert {\n",
              "      background-color: #E8F0FE;\n",
              "      border: none;\n",
              "      border-radius: 50%;\n",
              "      cursor: pointer;\n",
              "      display: none;\n",
              "      fill: #1967D2;\n",
              "      height: 32px;\n",
              "      padding: 0 0 0 0;\n",
              "      width: 32px;\n",
              "    }\n",
              "\n",
              "    .colab-df-convert:hover {\n",
              "      background-color: #E2EBFA;\n",
              "      box-shadow: 0px 1px 2px rgba(60, 64, 67, 0.3), 0px 1px 3px 1px rgba(60, 64, 67, 0.15);\n",
              "      fill: #174EA6;\n",
              "    }\n",
              "\n",
              "    .colab-df-buttons div {\n",
              "      margin-bottom: 4px;\n",
              "    }\n",
              "\n",
              "    [theme=dark] .colab-df-convert {\n",
              "      background-color: #3B4455;\n",
              "      fill: #D2E3FC;\n",
              "    }\n",
              "\n",
              "    [theme=dark] .colab-df-convert:hover {\n",
              "      background-color: #434B5C;\n",
              "      box-shadow: 0px 1px 3px 1px rgba(0, 0, 0, 0.15);\n",
              "      filter: drop-shadow(0px 1px 2px rgba(0, 0, 0, 0.3));\n",
              "      fill: #FFFFFF;\n",
              "    }\n",
              "  </style>\n",
              "\n",
              "    <script>\n",
              "      const buttonEl =\n",
              "        document.querySelector('#df-074329d1-e9cb-4e9d-bf44-c0d514ed831a button.colab-df-convert');\n",
              "      buttonEl.style.display =\n",
              "        google.colab.kernel.accessAllowed ? 'block' : 'none';\n",
              "\n",
              "      async function convertToInteractive(key) {\n",
              "        const element = document.querySelector('#df-074329d1-e9cb-4e9d-bf44-c0d514ed831a');\n",
              "        const dataTable =\n",
              "          await google.colab.kernel.invokeFunction('convertToInteractive',\n",
              "                                                    [key], {});\n",
              "        if (!dataTable) return;\n",
              "\n",
              "        const docLinkHtml = 'Like what you see? Visit the ' +\n",
              "          '<a target=\"_blank\" href=https://colab.research.google.com/notebooks/data_table.ipynb>data table notebook</a>'\n",
              "          + ' to learn more about interactive tables.';\n",
              "        element.innerHTML = '';\n",
              "        dataTable['output_type'] = 'display_data';\n",
              "        await google.colab.output.renderOutput(dataTable, element);\n",
              "        const docLink = document.createElement('div');\n",
              "        docLink.innerHTML = docLinkHtml;\n",
              "        element.appendChild(docLink);\n",
              "      }\n",
              "    </script>\n",
              "  </div>\n",
              "\n",
              "\n",
              "<div id=\"df-3b9cb783-7256-4c46-a7f6-91a1ceebebcf\">\n",
              "  <button class=\"colab-df-quickchart\" onclick=\"quickchart('df-3b9cb783-7256-4c46-a7f6-91a1ceebebcf')\"\n",
              "            title=\"Suggest charts\"\n",
              "            style=\"display:none;\">\n",
              "\n",
              "<svg xmlns=\"http://www.w3.org/2000/svg\" height=\"24px\"viewBox=\"0 0 24 24\"\n",
              "     width=\"24px\">\n",
              "    <g>\n",
              "        <path d=\"M19 3H5c-1.1 0-2 .9-2 2v14c0 1.1.9 2 2 2h14c1.1 0 2-.9 2-2V5c0-1.1-.9-2-2-2zM9 17H7v-7h2v7zm4 0h-2V7h2v10zm4 0h-2v-4h2v4z\"/>\n",
              "    </g>\n",
              "</svg>\n",
              "  </button>\n",
              "\n",
              "<style>\n",
              "  .colab-df-quickchart {\n",
              "      --bg-color: #E8F0FE;\n",
              "      --fill-color: #1967D2;\n",
              "      --hover-bg-color: #E2EBFA;\n",
              "      --hover-fill-color: #174EA6;\n",
              "      --disabled-fill-color: #AAA;\n",
              "      --disabled-bg-color: #DDD;\n",
              "  }\n",
              "\n",
              "  [theme=dark] .colab-df-quickchart {\n",
              "      --bg-color: #3B4455;\n",
              "      --fill-color: #D2E3FC;\n",
              "      --hover-bg-color: #434B5C;\n",
              "      --hover-fill-color: #FFFFFF;\n",
              "      --disabled-bg-color: #3B4455;\n",
              "      --disabled-fill-color: #666;\n",
              "  }\n",
              "\n",
              "  .colab-df-quickchart {\n",
              "    background-color: var(--bg-color);\n",
              "    border: none;\n",
              "    border-radius: 50%;\n",
              "    cursor: pointer;\n",
              "    display: none;\n",
              "    fill: var(--fill-color);\n",
              "    height: 32px;\n",
              "    padding: 0;\n",
              "    width: 32px;\n",
              "  }\n",
              "\n",
              "  .colab-df-quickchart:hover {\n",
              "    background-color: var(--hover-bg-color);\n",
              "    box-shadow: 0 1px 2px rgba(60, 64, 67, 0.3), 0 1px 3px 1px rgba(60, 64, 67, 0.15);\n",
              "    fill: var(--button-hover-fill-color);\n",
              "  }\n",
              "\n",
              "  .colab-df-quickchart-complete:disabled,\n",
              "  .colab-df-quickchart-complete:disabled:hover {\n",
              "    background-color: var(--disabled-bg-color);\n",
              "    fill: var(--disabled-fill-color);\n",
              "    box-shadow: none;\n",
              "  }\n",
              "\n",
              "  .colab-df-spinner {\n",
              "    border: 2px solid var(--fill-color);\n",
              "    border-color: transparent;\n",
              "    border-bottom-color: var(--fill-color);\n",
              "    animation:\n",
              "      spin 1s steps(1) infinite;\n",
              "  }\n",
              "\n",
              "  @keyframes spin {\n",
              "    0% {\n",
              "      border-color: transparent;\n",
              "      border-bottom-color: var(--fill-color);\n",
              "      border-left-color: var(--fill-color);\n",
              "    }\n",
              "    20% {\n",
              "      border-color: transparent;\n",
              "      border-left-color: var(--fill-color);\n",
              "      border-top-color: var(--fill-color);\n",
              "    }\n",
              "    30% {\n",
              "      border-color: transparent;\n",
              "      border-left-color: var(--fill-color);\n",
              "      border-top-color: var(--fill-color);\n",
              "      border-right-color: var(--fill-color);\n",
              "    }\n",
              "    40% {\n",
              "      border-color: transparent;\n",
              "      border-right-color: var(--fill-color);\n",
              "      border-top-color: var(--fill-color);\n",
              "    }\n",
              "    60% {\n",
              "      border-color: transparent;\n",
              "      border-right-color: var(--fill-color);\n",
              "    }\n",
              "    80% {\n",
              "      border-color: transparent;\n",
              "      border-right-color: var(--fill-color);\n",
              "      border-bottom-color: var(--fill-color);\n",
              "    }\n",
              "    90% {\n",
              "      border-color: transparent;\n",
              "      border-bottom-color: var(--fill-color);\n",
              "    }\n",
              "  }\n",
              "</style>\n",
              "\n",
              "  <script>\n",
              "    async function quickchart(key) {\n",
              "      const quickchartButtonEl =\n",
              "        document.querySelector('#' + key + ' button');\n",
              "      quickchartButtonEl.disabled = true;  // To prevent multiple clicks.\n",
              "      quickchartButtonEl.classList.add('colab-df-spinner');\n",
              "      try {\n",
              "        const charts = await google.colab.kernel.invokeFunction(\n",
              "            'suggestCharts', [key], {});\n",
              "      } catch (error) {\n",
              "        console.error('Error during call to suggestCharts:', error);\n",
              "      }\n",
              "      quickchartButtonEl.classList.remove('colab-df-spinner');\n",
              "      quickchartButtonEl.classList.add('colab-df-quickchart-complete');\n",
              "    }\n",
              "    (() => {\n",
              "      let quickchartButtonEl =\n",
              "        document.querySelector('#df-3b9cb783-7256-4c46-a7f6-91a1ceebebcf button');\n",
              "      quickchartButtonEl.style.display =\n",
              "        google.colab.kernel.accessAllowed ? 'block' : 'none';\n",
              "    })();\n",
              "  </script>\n",
              "</div>\n",
              "\n",
              "    </div>\n",
              "  </div>\n"
            ],
            "application/vnd.google.colaboratory.intrinsic+json": {
              "type": "dataframe"
            }
          },
          "metadata": {},
          "execution_count": 59
        }
      ],
      "source": [
        "df.describe() .round()  #basic stats"
      ]
    },
    {
      "cell_type": "code",
      "execution_count": null,
      "metadata": {
        "colab": {
          "base_uri": "https://localhost:8080/",
          "height": 458
        },
        "id": "niXBEyyRI_et",
        "outputId": "f9af4a21-5636-4add-a784-924bd01c56f1"
      },
      "outputs": [
        {
          "output_type": "execute_result",
          "data": {
            "text/plain": [
              "time_left                    0\n",
              "ct_score                     0\n",
              "t_score                      0\n",
              "map                          0\n",
              "bomb_planted                 0\n",
              "                            ..\n",
              "ct_grenade_molotovgrenade    0\n",
              "t_grenade_molotovgrenade     0\n",
              "ct_grenade_decoygrenade      0\n",
              "t_grenade_decoygrenade       0\n",
              "round_winner                 0\n",
              "Length: 97, dtype: int64"
            ],
            "text/html": [
              "<div>\n",
              "<style scoped>\n",
              "    .dataframe tbody tr th:only-of-type {\n",
              "        vertical-align: middle;\n",
              "    }\n",
              "\n",
              "    .dataframe tbody tr th {\n",
              "        vertical-align: top;\n",
              "    }\n",
              "\n",
              "    .dataframe thead th {\n",
              "        text-align: right;\n",
              "    }\n",
              "</style>\n",
              "<table border=\"1\" class=\"dataframe\">\n",
              "  <thead>\n",
              "    <tr style=\"text-align: right;\">\n",
              "      <th></th>\n",
              "      <th>0</th>\n",
              "    </tr>\n",
              "  </thead>\n",
              "  <tbody>\n",
              "    <tr>\n",
              "      <th>time_left</th>\n",
              "      <td>0</td>\n",
              "    </tr>\n",
              "    <tr>\n",
              "      <th>ct_score</th>\n",
              "      <td>0</td>\n",
              "    </tr>\n",
              "    <tr>\n",
              "      <th>t_score</th>\n",
              "      <td>0</td>\n",
              "    </tr>\n",
              "    <tr>\n",
              "      <th>map</th>\n",
              "      <td>0</td>\n",
              "    </tr>\n",
              "    <tr>\n",
              "      <th>bomb_planted</th>\n",
              "      <td>0</td>\n",
              "    </tr>\n",
              "    <tr>\n",
              "      <th>...</th>\n",
              "      <td>...</td>\n",
              "    </tr>\n",
              "    <tr>\n",
              "      <th>ct_grenade_molotovgrenade</th>\n",
              "      <td>0</td>\n",
              "    </tr>\n",
              "    <tr>\n",
              "      <th>t_grenade_molotovgrenade</th>\n",
              "      <td>0</td>\n",
              "    </tr>\n",
              "    <tr>\n",
              "      <th>ct_grenade_decoygrenade</th>\n",
              "      <td>0</td>\n",
              "    </tr>\n",
              "    <tr>\n",
              "      <th>t_grenade_decoygrenade</th>\n",
              "      <td>0</td>\n",
              "    </tr>\n",
              "    <tr>\n",
              "      <th>round_winner</th>\n",
              "      <td>0</td>\n",
              "    </tr>\n",
              "  </tbody>\n",
              "</table>\n",
              "<p>97 rows × 1 columns</p>\n",
              "</div><br><label><b>dtype:</b> int64</label>"
            ]
          },
          "metadata": {},
          "execution_count": 60
        }
      ],
      "source": [
        "df.isnull().sum()"
      ]
    },
    {
      "cell_type": "code",
      "execution_count": null,
      "metadata": {
        "colab": {
          "base_uri": "https://localhost:8080/"
        },
        "id": "um3Z25ESsAk0",
        "outputId": "fc306e32-5813-4ecc-a697-e6ed9312466c"
      },
      "outputs": [
        {
          "output_type": "execute_result",
          "data": {
            "text/plain": [
              "0"
            ]
          },
          "metadata": {},
          "execution_count": 61
        }
      ],
      "source": [
        "# There are no null values present in the dataset\n",
        "df.isnull().sum().sum()"
      ]
    },
    {
      "cell_type": "code",
      "execution_count": null,
      "metadata": {
        "colab": {
          "base_uri": "https://localhost:8080/",
          "height": 366
        },
        "id": "qQpKSpmL8ZxY",
        "outputId": "86d114a3-a8d0-4103-af35-f35fd54a3804"
      },
      "outputs": [
        {
          "output_type": "execute_result",
          "data": {
            "text/plain": [
              "map\n",
              "de_inferno     23811\n",
              "de_dust2       22144\n",
              "de_nuke        19025\n",
              "de_mirage      18576\n",
              "de_overpass    14081\n",
              "de_train       13491\n",
              "de_vertigo     11137\n",
              "de_cache         145\n",
              "Name: count, dtype: int64"
            ],
            "text/html": [
              "<div>\n",
              "<style scoped>\n",
              "    .dataframe tbody tr th:only-of-type {\n",
              "        vertical-align: middle;\n",
              "    }\n",
              "\n",
              "    .dataframe tbody tr th {\n",
              "        vertical-align: top;\n",
              "    }\n",
              "\n",
              "    .dataframe thead th {\n",
              "        text-align: right;\n",
              "    }\n",
              "</style>\n",
              "<table border=\"1\" class=\"dataframe\">\n",
              "  <thead>\n",
              "    <tr style=\"text-align: right;\">\n",
              "      <th></th>\n",
              "      <th>count</th>\n",
              "    </tr>\n",
              "    <tr>\n",
              "      <th>map</th>\n",
              "      <th></th>\n",
              "    </tr>\n",
              "  </thead>\n",
              "  <tbody>\n",
              "    <tr>\n",
              "      <th>de_inferno</th>\n",
              "      <td>23811</td>\n",
              "    </tr>\n",
              "    <tr>\n",
              "      <th>de_dust2</th>\n",
              "      <td>22144</td>\n",
              "    </tr>\n",
              "    <tr>\n",
              "      <th>de_nuke</th>\n",
              "      <td>19025</td>\n",
              "    </tr>\n",
              "    <tr>\n",
              "      <th>de_mirage</th>\n",
              "      <td>18576</td>\n",
              "    </tr>\n",
              "    <tr>\n",
              "      <th>de_overpass</th>\n",
              "      <td>14081</td>\n",
              "    </tr>\n",
              "    <tr>\n",
              "      <th>de_train</th>\n",
              "      <td>13491</td>\n",
              "    </tr>\n",
              "    <tr>\n",
              "      <th>de_vertigo</th>\n",
              "      <td>11137</td>\n",
              "    </tr>\n",
              "    <tr>\n",
              "      <th>de_cache</th>\n",
              "      <td>145</td>\n",
              "    </tr>\n",
              "  </tbody>\n",
              "</table>\n",
              "</div><br><label><b>dtype:</b> int64</label>"
            ]
          },
          "metadata": {},
          "execution_count": 62
        }
      ],
      "source": [
        "df[\"map\"].value_counts()"
      ]
    },
    {
      "cell_type": "code",
      "execution_count": null,
      "metadata": {
        "colab": {
          "base_uri": "https://localhost:8080/"
        },
        "id": "4O6_AATBDQc4",
        "outputId": "5b3ee85e-807a-4bec-f53a-2b162e4d3c72"
      },
      "outputs": [
        {
          "output_type": "execute_result",
          "data": {
            "text/plain": [
              "[('HARSH', 35), ('Intellipaat', 16), ('success', 25)]"
            ]
          },
          "metadata": {},
          "execution_count": 63
        }
      ],
      "source": [
        "names=['HARSH','Intellipaat','success']\n",
        "ages=[35,16,25]\n",
        "comb=zip(names,ages)\n",
        "list(comb)"
      ]
    },
    {
      "cell_type": "code",
      "execution_count": null,
      "metadata": {
        "colab": {
          "base_uri": "https://localhost:8080/"
        },
        "id": "_LuhpDPm78Bg",
        "outputId": "0f1d13a9-17b5-447b-f5b1-e5780fec2c67"
      },
      "outputs": [
        {
          "output_type": "stream",
          "name": "stdout",
          "text": [
            "de_inferno: 19.45% / 23811\n",
            "de_dust2: 18.09% / 22144\n",
            "de_nuke: 15.54% / 19025\n",
            "de_mirage: 15.18% / 18576\n",
            "de_overpass: 11.50% / 14081\n",
            "de_train: 11.02% / 13491\n",
            "de_vertigo: 9.10% / 11137\n",
            "de_cache: 0.12% / 145\n"
          ]
        }
      ],
      "source": [
        "counts = df['map'].value_counts()\n",
        "total = counts.sum()\n",
        "percentages = counts / total * 100\n",
        "\n",
        "for map_name, count, percent in zip(counts.index, counts.values, percentages.values):\n",
        "    print(f'{map_name}: {percent:.2f}%','/',count)"
      ]
    },
    {
      "cell_type": "code",
      "execution_count": null,
      "metadata": {
        "colab": {
          "base_uri": "https://localhost:8080/"
        },
        "id": "grRbHXg_oA3a",
        "outputId": "68dd889d-dbfd-49d6-b2d7-650c454f8dd0"
      },
      "outputs": [
        {
          "output_type": "execute_result",
          "data": {
            "text/plain": [
              "122410"
            ]
          },
          "metadata": {},
          "execution_count": 65
        }
      ],
      "source": [
        "total"
      ]
    },
    {
      "cell_type": "code",
      "execution_count": null,
      "metadata": {
        "colab": {
          "base_uri": "https://localhost:8080/"
        },
        "id": "C1AN3q5boESC",
        "outputId": "22dd45c4-caeb-49df-c7d5-e6f04e450467"
      },
      "outputs": [
        {
          "output_type": "execute_result",
          "data": {
            "text/plain": [
              "0.19451842169757372"
            ]
          },
          "metadata": {},
          "execution_count": 66
        }
      ],
      "source": [
        "23811/122410"
      ]
    },
    {
      "cell_type": "markdown",
      "metadata": {
        "id": "hjrntEMxyRBF"
      },
      "source": [
        "In summary, the code is providing an overview of how rounds are distributed across different maps in the CS:GO dataset. It gives insights into the popularity or frequency of matches on each map, allowing for a better understanding of teams' success on specific map locations"
      ]
    },
    {
      "cell_type": "code",
      "execution_count": null,
      "metadata": {
        "colab": {
          "base_uri": "https://localhost:8080/",
          "height": 530
        },
        "id": "AiDH0Ojw8H0o",
        "outputId": "6ba3f86a-3b13-4c52-b55c-84cea8df8801"
      },
      "outputs": [
        {
          "output_type": "execute_result",
          "data": {
            "text/plain": [
              "Text(0, 0.5, 'Count')"
            ]
          },
          "metadata": {},
          "execution_count": 67
        },
        {
          "output_type": "display_data",
          "data": {
            "text/plain": [
              "<Figure size 640x480 with 1 Axes>"
            ],
            "image/png": "[encoded data removed]"
          },
          "metadata": {}
        }
      ],
      "source": [
        "plt.bar(counts.index, counts.values)\n",
        "\n",
        "plt.xticks(rotation=45)\n",
        "plt.xlabel('Map')\n",
        "\n",
        "plt.ylabel('Count')"
      ]
    },
    {
      "cell_type": "markdown",
      "source": [
        "load the lib\n",
        "\n",
        "load the data\n",
        "\n",
        "EDA\n",
        "\n",
        "feature eng.\n",
        "\n",
        "feature selection\n",
        "\n",
        "model building\n",
        "\n",
        "model evaluation"
      ],
      "metadata": {
        "id": "epFhRCMyUJkM"
      }
    },
    {
      "cell_type": "code",
      "source": [
        "import plotly.graph_objects as go\n",
        "\n",
        "fig = go.Figure(data=[\n",
        "    go.Bar(\n",
        "        x=counts.index,\n",
        "        y=counts.values,\n",
        "        text=counts.values,\n",
        "        textposition='auto',\n",
        "    )\n",
        "])\n",
        "\n",
        "fig.update_layout(\n",
        "    xaxis_title='Map',\n",
        "    yaxis_title='Count',\n",
        "    xaxis=dict(\n",
        "        tickangle=45  # Rotate x-axis labels\n",
        "    )\n",
        ")\n",
        "\n",
        "fig.show()\n"
      ],
      "metadata": {
        "colab": {
          "base_uri": "https://localhost:8080/",
          "height": 542
        },
        "id": "s4mcfYx5PLeb",
        "outputId": "e6918ae3-29cc-467a-96bb-1998d1d5aebc"
      },
      "execution_count": null,
      "outputs": [
        {
          "output_type": "display_data",
          "data": {
            "text/html": [
              "<html>\n",
              "<head><meta charset=\"utf-8\" /></head>\n",
              "<body>\n",
              "    <div>            <script src=\"https://cdnjs.cloudflare.com/ajax/libs/mathjax/2.7.5/MathJax.js?config=TeX-AMS-MML_SVG\"></script><script type=\"text/javascript\">if (window.MathJax && window.MathJax.Hub && window.MathJax.Hub.Config) {window.MathJax.Hub.Config({SVG: {font: \"STIX-Web\"}});}</script>                <script type=\"text/javascript\">window.PlotlyConfig = {MathJaxConfig: 'local'};</script>\n",
              "        <script charset=\"utf-8\" src=\"https://cdn.plot.ly/plotly-2.24.1.min.js\"></script>                <div id=\"20959401-9f74-4e4c-a8e0-4d49a59fa1a7\" class=\"plotly-graph-div\" style=\"height:525px; width:100%;\"></div>            <script type=\"text/javascript\">                                    window.PLOTLYENV=window.PLOTLYENV || {};                                    if (document.getElementById(\"20959401-9f74-4e4c-a8e0-4d49a59fa1a7\")) {                    Plotly.newPlot(                        \"20959401-9f74-4e4c-a8e0-4d49a59fa1a7\",                        [{\"text\":[23811.0,22144.0,19025.0,18576.0,14081.0,13491.0,11137.0,145.0],\"textposition\":\"auto\",\"x\":[\"de_inferno\",\"de_dust2\",\"de_nuke\",\"de_mirage\",\"de_overpass\",\"de_train\",\"de_vertigo\",\"de_cache\"],\"y\":[23811,22144,19025,18576,14081,13491,11137,145],\"type\":\"bar\"}],                        {\"template\":{\"data\":{\"histogram2dcontour\":[{\"type\":\"histogram2dcontour\",\"colorbar\":{\"outlinewidth\":0,\"ticks\":\"\"},\"colorscale\":[[0.0,\"#0d0887\"],[0.1111111111111111,\"#46039f\"],[0.2222222222222222,\"#7201a8\"],[0.3333333333333333,\"#9c179e\"],[0.4444444444444444,\"#bd3786\"],[0.5555555555555556,\"#d8576b\"],[0.6666666666666666,\"#ed7953\"],[0.7777777777777778,\"#fb9f3a\"],[0.8888888888888888,\"#fdca26\"],[1.0,\"#f0f921\"]]}],\"choropleth\":[{\"type\":\"choropleth\",\"colorbar\":{\"outlinewidth\":0,\"ticks\":\"\"}}],\"histogram2d\":[{\"type\":\"histogram2d\",\"colorbar\":{\"outlinewidth\":0,\"ticks\":\"\"},\"colorscale\":[[0.0,\"#0d0887\"],[0.1111111111111111,\"#46039f\"],[0.2222222222222222,\"#7201a8\"],[0.3333333333333333,\"#9c179e\"],[0.4444444444444444,\"#bd3786\"],[0.5555555555555556,\"#d8576b\"],[0.6666666666666666,\"#ed7953\"],[0.7777777777777778,\"#fb9f3a\"],[0.8888888888888888,\"#fdca26\"],[1.0,\"#f0f921\"]]}],\"heatmap\":[{\"type\":\"heatmap\",\"colorbar\":{\"outlinewidth\":0,\"ticks\":\"\"},\"colorscale\":[[0.0,\"#0d0887\"],[0.1111111111111111,\"#46039f\"],[0.2222222222222222,\"#7201a8\"],[0.3333333333333333,\"#9c179e\"],[0.4444444444444444,\"#bd3786\"],[0.5555555555555556,\"#d8576b\"],[0.6666666666666666,\"#ed7953\"],[0.7777777777777778,\"#fb9f3a\"],[0.8888888888888888,\"#fdca26\"],[1.0,\"#f0f921\"]]}],\"heatmapgl\":[{\"type\":\"heatmapgl\",\"colorbar\":{\"outlinewidth\":0,\"ticks\":\"\"},\"colorscale\":[[0.0,\"#0d0887\"],[0.1111111111111111,\"#46039f\"],[0.2222222222222222,\"#7201a8\"],[0.3333333333333333,\"#9c179e\"],[0.4444444444444444,\"#bd3786\"],[0.5555555555555556,\"#d8576b\"],[0.6666666666666666,\"#ed7953\"],[0.7777777777777778,\"#fb9f3a\"],[0.8888888888888888,\"#fdca26\"],[1.0,\"#f0f921\"]]}],\"contourcarpet\":[{\"type\":\"contourcarpet\",\"colorbar\":{\"outlinewidth\":0,\"ticks\":\"\"}}],\"contour\":[{\"type\":\"contour\",\"colorbar\":{\"outlinewidth\":0,\"ticks\":\"\"},\"colorscale\":[[0.0,\"#0d0887\"],[0.1111111111111111,\"#46039f\"],[0.2222222222222222,\"#7201a8\"],[0.3333333333333333,\"#9c179e\"],[0.4444444444444444,\"#bd3786\"],[0.5555555555555556,\"#d8576b\"],[0.6666666666666666,\"#ed7953\"],[0.7777777777777778,\"#fb9f3a\"],[0.8888888888888888,\"#fdca26\"],[1.0,\"#f0f921\"]]}],\"surface\":[{\"type\":\"surface\",\"colorbar\":{\"outlinewidth\":0,\"ticks\":\"\"},\"colorscale\":[[0.0,\"#0d0887\"],[0.1111111111111111,\"#46039f\"],[0.2222222222222222,\"#7201a8\"],[0.3333333333333333,\"#9c179e\"],[0.4444444444444444,\"#bd3786\"],[0.5555555555555556,\"#d8576b\"],[0.6666666666666666,\"#ed7953\"],[0.7777777777777778,\"#fb9f3a\"],[0.8888888888888888,\"#fdca26\"],[1.0,\"#f0f921\"]]}],\"mesh3d\":[{\"type\":\"mesh3d\",\"colorbar\":{\"outlinewidth\":0,\"ticks\":\"\"}}],\"scatter\":[{\"fillpattern\":{\"fillmode\":\"overlay\",\"size\":10,\"solidity\":0.2},\"type\":\"scatter\"}],\"parcoords\":[{\"type\":\"parcoords\",\"line\":{\"colorbar\":{\"outlinewidth\":0,\"ticks\":\"\"}}}],\"scatterpolargl\":[{\"type\":\"scatterpolargl\",\"marker\":{\"colorbar\":{\"outlinewidth\":0,\"ticks\":\"\"}}}],\"bar\":[{\"error_x\":{\"color\":\"#2a3f5f\"},\"error_y\":{\"color\":\"#2a3f5f\"},\"marker\":{\"line\":{\"color\":\"#E5ECF6\",\"width\":0.5},\"pattern\":{\"fillmode\":\"overlay\",\"size\":10,\"solidity\":0.2}},\"type\":\"bar\"}],\"scattergeo\":[{\"type\":\"scattergeo\",\"marker\":{\"colorbar\":{\"outlinewidth\":0,\"ticks\":\"\"}}}],\"scatterpolar\":[{\"type\":\"scatterpolar\",\"marker\":{\"colorbar\":{\"outlinewidth\":0,\"ticks\":\"\"}}}],\"histogram\":[{\"marker\":{\"pattern\":{\"fillmode\":\"overlay\",\"size\":10,\"solidity\":0.2}},\"type\":\"histogram\"}],\"scattergl\":[{\"type\":\"scattergl\",\"marker\":{\"colorbar\":{\"outlinewidth\":0,\"ticks\":\"\"}}}],\"scatter3d\":[{\"type\":\"scatter3d\",\"line\":{\"colorbar\":{\"outlinewidth\":0,\"ticks\":\"\"}},\"marker\":{\"colorbar\":{\"outlinewidth\":0,\"ticks\":\"\"}}}],\"scattermapbox\":[{\"type\":\"scattermapbox\",\"marker\":{\"colorbar\":{\"outlinewidth\":0,\"ticks\":\"\"}}}],\"scatterternary\":[{\"type\":\"scatterternary\",\"marker\":{\"colorbar\":{\"outlinewidth\":0,\"ticks\":\"\"}}}],\"scattercarpet\":[{\"type\":\"scattercarpet\",\"marker\":{\"colorbar\":{\"outlinewidth\":0,\"ticks\":\"\"}}}],\"carpet\":[{\"aaxis\":{\"endlinecolor\":\"#2a3f5f\",\"gridcolor\":\"white\",\"linecolor\":\"white\",\"minorgridcolor\":\"white\",\"startlinecolor\":\"#2a3f5f\"},\"baxis\":{\"endlinecolor\":\"#2a3f5f\",\"gridcolor\":\"white\",\"linecolor\":\"white\",\"minorgridcolor\":\"white\",\"startlinecolor\":\"#2a3f5f\"},\"type\":\"carpet\"}],\"table\":[{\"cells\":{\"fill\":{\"color\":\"#EBF0F8\"},\"line\":{\"color\":\"white\"}},\"header\":{\"fill\":{\"color\":\"#C8D4E3\"},\"line\":{\"color\":\"white\"}},\"type\":\"table\"}],\"barpolar\":[{\"marker\":{\"line\":{\"color\":\"#E5ECF6\",\"width\":0.5},\"pattern\":{\"fillmode\":\"overlay\",\"size\":10,\"solidity\":0.2}},\"type\":\"barpolar\"}],\"pie\":[{\"automargin\":true,\"type\":\"pie\"}]},\"layout\":{\"autotypenumbers\":\"strict\",\"colorway\":[\"#636efa\",\"#EF553B\",\"#00cc96\",\"#ab63fa\",\"#FFA15A\",\"#19d3f3\",\"#FF6692\",\"#B6E880\",\"#FF97FF\",\"#FECB52\"],\"font\":{\"color\":\"#2a3f5f\"},\"hovermode\":\"closest\",\"hoverlabel\":{\"align\":\"left\"},\"paper_bgcolor\":\"white\",\"plot_bgcolor\":\"#E5ECF6\",\"polar\":{\"bgcolor\":\"#E5ECF6\",\"angularaxis\":{\"gridcolor\":\"white\",\"linecolor\":\"white\",\"ticks\":\"\"},\"radialaxis\":{\"gridcolor\":\"white\",\"linecolor\":\"white\",\"ticks\":\"\"}},\"ternary\":{\"bgcolor\":\"#E5ECF6\",\"aaxis\":{\"gridcolor\":\"white\",\"linecolor\":\"white\",\"ticks\":\"\"},\"baxis\":{\"gridcolor\":\"white\",\"linecolor\":\"white\",\"ticks\":\"\"},\"caxis\":{\"gridcolor\":\"white\",\"linecolor\":\"white\",\"ticks\":\"\"}},\"coloraxis\":{\"colorbar\":{\"outlinewidth\":0,\"ticks\":\"\"}},\"colorscale\":{\"sequential\":[[0.0,\"#0d0887\"],[0.1111111111111111,\"#46039f\"],[0.2222222222222222,\"#7201a8\"],[0.3333333333333333,\"#9c179e\"],[0.4444444444444444,\"#bd3786\"],[0.5555555555555556,\"#d8576b\"],[0.6666666666666666,\"#ed7953\"],[0.7777777777777778,\"#fb9f3a\"],[0.8888888888888888,\"#fdca26\"],[1.0,\"#f0f921\"]],\"sequentialminus\":[[0.0,\"#0d0887\"],[0.1111111111111111,\"#46039f\"],[0.2222222222222222,\"#7201a8\"],[0.3333333333333333,\"#9c179e\"],[0.4444444444444444,\"#bd3786\"],[0.5555555555555556,\"#d8576b\"],[0.6666666666666666,\"#ed7953\"],[0.7777777777777778,\"#fb9f3a\"],[0.8888888888888888,\"#fdca26\"],[1.0,\"#f0f921\"]],\"diverging\":[[0,\"#8e0152\"],[0.1,\"#c51b7d\"],[0.2,\"#de77ae\"],[0.3,\"#f1b6da\"],[0.4,\"#fde0ef\"],[0.5,\"#f7f7f7\"],[0.6,\"#e6f5d0\"],[0.7,\"#b8e186\"],[0.8,\"#7fbc41\"],[0.9,\"#4d9221\"],[1,\"#276419\"]]},\"xaxis\":{\"gridcolor\":\"white\",\"linecolor\":\"white\",\"ticks\":\"\",\"title\":{\"standoff\":15},\"zerolinecolor\":\"white\",\"automargin\":true,\"zerolinewidth\":2},\"yaxis\":{\"gridcolor\":\"white\",\"linecolor\":\"white\",\"ticks\":\"\",\"title\":{\"standoff\":15},\"zerolinecolor\":\"white\",\"automargin\":true,\"zerolinewidth\":2},\"scene\":{\"xaxis\":{\"backgroundcolor\":\"#E5ECF6\",\"gridcolor\":\"white\",\"linecolor\":\"white\",\"showbackground\":true,\"ticks\":\"\",\"zerolinecolor\":\"white\",\"gridwidth\":2},\"yaxis\":{\"backgroundcolor\":\"#E5ECF6\",\"gridcolor\":\"white\",\"linecolor\":\"white\",\"showbackground\":true,\"ticks\":\"\",\"zerolinecolor\":\"white\",\"gridwidth\":2},\"zaxis\":{\"backgroundcolor\":\"#E5ECF6\",\"gridcolor\":\"white\",\"linecolor\":\"white\",\"showbackground\":true,\"ticks\":\"\",\"zerolinecolor\":\"white\",\"gridwidth\":2}},\"shapedefaults\":{\"line\":{\"color\":\"#2a3f5f\"}},\"annotationdefaults\":{\"arrowcolor\":\"#2a3f5f\",\"arrowhead\":0,\"arrowwidth\":1},\"geo\":{\"bgcolor\":\"white\",\"landcolor\":\"#E5ECF6\",\"subunitcolor\":\"white\",\"showland\":true,\"showlakes\":true,\"lakecolor\":\"white\"},\"title\":{\"x\":0.05},\"mapbox\":{\"style\":\"light\"}}},\"xaxis\":{\"title\":{\"text\":\"Map\"},\"tickangle\":45},\"yaxis\":{\"title\":{\"text\":\"Count\"}}},                        {\"responsive\": true}                    ).then(function(){\n",
              "                            \n",
              "var gd = document.getElementById('20959401-9f74-4e4c-a8e0-4d49a59fa1a7');\n",
              "var x = new MutationObserver(function (mutations, observer) {{\n",
              "        var display = window.getComputedStyle(gd).display;\n",
              "        if (!display || display === 'none') {{\n",
              "            console.log([gd, 'removed!']);\n",
              "            Plotly.purge(gd);\n",
              "            observer.disconnect();\n",
              "        }}\n",
              "}});\n",
              "\n",
              "// Listen for the removal of the full notebook cells\n",
              "var notebookContainer = gd.closest('#notebook-container');\n",
              "if (notebookContainer) {{\n",
              "    x.observe(notebookContainer, {childList: true});\n",
              "}}\n",
              "\n",
              "// Listen for the clearing of the current output cell\n",
              "var outputEl = gd.closest('.output');\n",
              "if (outputEl) {{\n",
              "    x.observe(outputEl, {childList: true});\n",
              "}}\n",
              "\n",
              "                        })                };                            </script>        </div>\n",
              "</body>\n",
              "</html>"
            ]
          },
          "metadata": {}
        }
      ]
    },
    {
      "cell_type": "code",
      "execution_count": null,
      "metadata": {
        "colab": {
          "base_uri": "https://localhost:8080/"
        },
        "id": "KHBPKZU1_R22",
        "outputId": "5794d34a-f732-448e-e237-f600d9db3431"
      },
      "outputs": [
        {
          "output_type": "stream",
          "name": "stdout",
          "text": [
            "Columns which have categorical values map\n",
            "Columns which have categorical values bomb_planted\n",
            "Columns which have categorical values round_winner\n"
          ]
        }
      ],
      "source": [
        "for i in df.columns:\n",
        "  if (df[i].dtypes==\"object\") | (df[i].dtypes==\"bool\"):\n",
        "    print(\"Columns which have categorical values\",i)"
      ]
    },
    {
      "cell_type": "code",
      "execution_count": null,
      "metadata": {
        "colab": {
          "base_uri": "https://localhost:8080/",
          "height": 178
        },
        "id": "wq8OPPOTvRC2",
        "outputId": "d1b4a747-919c-4c17-ceec-0a608e6c561e"
      },
      "outputs": [
        {
          "output_type": "execute_result",
          "data": {
            "text/plain": [
              "bomb_planted\n",
              "False    108726\n",
              "True      13684\n",
              "Name: count, dtype: int64"
            ],
            "text/html": [
              "<div>\n",
              "<style scoped>\n",
              "    .dataframe tbody tr th:only-of-type {\n",
              "        vertical-align: middle;\n",
              "    }\n",
              "\n",
              "    .dataframe tbody tr th {\n",
              "        vertical-align: top;\n",
              "    }\n",
              "\n",
              "    .dataframe thead th {\n",
              "        text-align: right;\n",
              "    }\n",
              "</style>\n",
              "<table border=\"1\" class=\"dataframe\">\n",
              "  <thead>\n",
              "    <tr style=\"text-align: right;\">\n",
              "      <th></th>\n",
              "      <th>count</th>\n",
              "    </tr>\n",
              "    <tr>\n",
              "      <th>bomb_planted</th>\n",
              "      <th></th>\n",
              "    </tr>\n",
              "  </thead>\n",
              "  <tbody>\n",
              "    <tr>\n",
              "      <th>False</th>\n",
              "      <td>108726</td>\n",
              "    </tr>\n",
              "    <tr>\n",
              "      <th>True</th>\n",
              "      <td>13684</td>\n",
              "    </tr>\n",
              "  </tbody>\n",
              "</table>\n",
              "</div><br><label><b>dtype:</b> int64</label>"
            ]
          },
          "metadata": {},
          "execution_count": 70
        }
      ],
      "source": [
        "df[\"bomb_planted\"].value_counts()"
      ]
    },
    {
      "cell_type": "code",
      "execution_count": null,
      "metadata": {
        "colab": {
          "base_uri": "https://localhost:8080/",
          "height": 366
        },
        "id": "cfXs_E0uuvVC",
        "outputId": "1eb5ebb3-0d35-4ff9-d202-e66e2eb428f3"
      },
      "outputs": [
        {
          "output_type": "execute_result",
          "data": {
            "text/plain": [
              "map\n",
              "de_inferno     23811\n",
              "de_dust2       22144\n",
              "de_nuke        19025\n",
              "de_mirage      18576\n",
              "de_overpass    14081\n",
              "de_train       13491\n",
              "de_vertigo     11137\n",
              "de_cache         145\n",
              "Name: count, dtype: int64"
            ],
            "text/html": [
              "<div>\n",
              "<style scoped>\n",
              "    .dataframe tbody tr th:only-of-type {\n",
              "        vertical-align: middle;\n",
              "    }\n",
              "\n",
              "    .dataframe tbody tr th {\n",
              "        vertical-align: top;\n",
              "    }\n",
              "\n",
              "    .dataframe thead th {\n",
              "        text-align: right;\n",
              "    }\n",
              "</style>\n",
              "<table border=\"1\" class=\"dataframe\">\n",
              "  <thead>\n",
              "    <tr style=\"text-align: right;\">\n",
              "      <th></th>\n",
              "      <th>count</th>\n",
              "    </tr>\n",
              "    <tr>\n",
              "      <th>map</th>\n",
              "      <th></th>\n",
              "    </tr>\n",
              "  </thead>\n",
              "  <tbody>\n",
              "    <tr>\n",
              "      <th>de_inferno</th>\n",
              "      <td>23811</td>\n",
              "    </tr>\n",
              "    <tr>\n",
              "      <th>de_dust2</th>\n",
              "      <td>22144</td>\n",
              "    </tr>\n",
              "    <tr>\n",
              "      <th>de_nuke</th>\n",
              "      <td>19025</td>\n",
              "    </tr>\n",
              "    <tr>\n",
              "      <th>de_mirage</th>\n",
              "      <td>18576</td>\n",
              "    </tr>\n",
              "    <tr>\n",
              "      <th>de_overpass</th>\n",
              "      <td>14081</td>\n",
              "    </tr>\n",
              "    <tr>\n",
              "      <th>de_train</th>\n",
              "      <td>13491</td>\n",
              "    </tr>\n",
              "    <tr>\n",
              "      <th>de_vertigo</th>\n",
              "      <td>11137</td>\n",
              "    </tr>\n",
              "    <tr>\n",
              "      <th>de_cache</th>\n",
              "      <td>145</td>\n",
              "    </tr>\n",
              "  </tbody>\n",
              "</table>\n",
              "</div><br><label><b>dtype:</b> int64</label>"
            ]
          },
          "metadata": {},
          "execution_count": 71
        }
      ],
      "source": [
        "df[\"map\"].value_counts()"
      ]
    },
    {
      "cell_type": "code",
      "execution_count": null,
      "metadata": {
        "colab": {
          "base_uri": "https://localhost:8080/",
          "height": 178
        },
        "id": "DgdIgKBiuvYX",
        "outputId": "308bf4cc-6911-439e-e432-28bffb89e787"
      },
      "outputs": [
        {
          "output_type": "execute_result",
          "data": {
            "text/plain": [
              "round_winner\n",
              "T     62406\n",
              "CT    60004\n",
              "Name: count, dtype: int64"
            ],
            "text/html": [
              "<div>\n",
              "<style scoped>\n",
              "    .dataframe tbody tr th:only-of-type {\n",
              "        vertical-align: middle;\n",
              "    }\n",
              "\n",
              "    .dataframe tbody tr th {\n",
              "        vertical-align: top;\n",
              "    }\n",
              "\n",
              "    .dataframe thead th {\n",
              "        text-align: right;\n",
              "    }\n",
              "</style>\n",
              "<table border=\"1\" class=\"dataframe\">\n",
              "  <thead>\n",
              "    <tr style=\"text-align: right;\">\n",
              "      <th></th>\n",
              "      <th>count</th>\n",
              "    </tr>\n",
              "    <tr>\n",
              "      <th>round_winner</th>\n",
              "      <th></th>\n",
              "    </tr>\n",
              "  </thead>\n",
              "  <tbody>\n",
              "    <tr>\n",
              "      <th>T</th>\n",
              "      <td>62406</td>\n",
              "    </tr>\n",
              "    <tr>\n",
              "      <th>CT</th>\n",
              "      <td>60004</td>\n",
              "    </tr>\n",
              "  </tbody>\n",
              "</table>\n",
              "</div><br><label><b>dtype:</b> int64</label>"
            ]
          },
          "metadata": {},
          "execution_count": 72
        }
      ],
      "source": [
        "df[\"round_winner\"].value_counts()"
      ]
    },
    {
      "cell_type": "code",
      "execution_count": null,
      "metadata": {
        "id": "bTrx7pb0z1ut"
      },
      "outputs": [],
      "source": [
        "# Converting categorical features into a integer column\n",
        "from sklearn.preprocessing import LabelEncoder\n",
        "le=LabelEncoder()\n",
        "df[\"bomb_planted\"]=le.fit_transform(df[\"bomb_planted\"])\n",
        "df[\"map\"]=le.fit_transform(df[\"map\"])\n",
        "df[\"round_winner\"]=le.fit_transform(df[\"round_winner\"])"
      ]
    },
    {
      "cell_type": "code",
      "execution_count": null,
      "metadata": {
        "colab": {
          "base_uri": "https://localhost:8080/",
          "height": 255
        },
        "id": "ZL_dAWrKG2dk",
        "outputId": "591b4f33-61dd-44e5-beb7-06fc548e4c31"
      },
      "outputs": [
        {
          "output_type": "execute_result",
          "data": {
            "text/plain": [
              "   time_left  ct_score  t_score  map  bomb_planted  ct_health  t_health  \\\n",
              "0     175.00       0.0      0.0    1             0      500.0     500.0   \n",
              "1     156.03       0.0      0.0    1             0      500.0     500.0   \n",
              "2      96.03       0.0      0.0    1             0      391.0     400.0   \n",
              "3      76.03       0.0      0.0    1             0      391.0     400.0   \n",
              "4     174.97       1.0      0.0    1             0      500.0     500.0   \n",
              "\n",
              "   ct_armor  t_armor  ct_money  ...  t_grenade_flashbang  \\\n",
              "0       0.0      0.0    4000.0  ...                  0.0   \n",
              "1     400.0    300.0     600.0  ...                  0.0   \n",
              "2     294.0    200.0     750.0  ...                  0.0   \n",
              "3     294.0    200.0     750.0  ...                  0.0   \n",
              "4     192.0      0.0   18350.0  ...                  0.0   \n",
              "\n",
              "   ct_grenade_smokegrenade  t_grenade_smokegrenade  \\\n",
              "0                      0.0                     0.0   \n",
              "1                      0.0                     2.0   \n",
              "2                      0.0                     2.0   \n",
              "3                      0.0                     0.0   \n",
              "4                      0.0                     0.0   \n",
              "\n",
              "   ct_grenade_incendiarygrenade  t_grenade_incendiarygrenade  \\\n",
              "0                           0.0                          0.0   \n",
              "1                           0.0                          0.0   \n",
              "2                           0.0                          0.0   \n",
              "3                           0.0                          0.0   \n",
              "4                           0.0                          0.0   \n",
              "\n",
              "   ct_grenade_molotovgrenade  t_grenade_molotovgrenade  \\\n",
              "0                        0.0                       0.0   \n",
              "1                        0.0                       0.0   \n",
              "2                        0.0                       0.0   \n",
              "3                        0.0                       0.0   \n",
              "4                        0.0                       0.0   \n",
              "\n",
              "   ct_grenade_decoygrenade  t_grenade_decoygrenade  round_winner  \n",
              "0                      0.0                     0.0             0  \n",
              "1                      0.0                     0.0             0  \n",
              "2                      0.0                     0.0             0  \n",
              "3                      0.0                     0.0             0  \n",
              "4                      0.0                     0.0             0  \n",
              "\n",
              "[5 rows x 97 columns]"
            ],
            "text/html": [
              "\n",
              "  <div id=\"df-688401d5-0bdb-4bd7-892f-d9461a640ecc\" class=\"colab-df-container\">\n",
              "    <div>\n",
              "<style scoped>\n",
              "    .dataframe tbody tr th:only-of-type {\n",
              "        vertical-align: middle;\n",
              "    }\n",
              "\n",
              "    .dataframe tbody tr th {\n",
              "        vertical-align: top;\n",
              "    }\n",
              "\n",
              "    .dataframe thead th {\n",
              "        text-align: right;\n",
              "    }\n",
              "</style>\n",
              "<table border=\"1\" class=\"dataframe\">\n",
              "  <thead>\n",
              "    <tr style=\"text-align: right;\">\n",
              "      <th></th>\n",
              "      <th>time_left</th>\n",
              "      <th>ct_score</th>\n",
              "      <th>t_score</th>\n",
              "      <th>map</th>\n",
              "      <th>bomb_planted</th>\n",
              "      <th>ct_health</th>\n",
              "      <th>t_health</th>\n",
              "      <th>ct_armor</th>\n",
              "      <th>t_armor</th>\n",
              "      <th>ct_money</th>\n",
              "      <th>...</th>\n",
              "      <th>t_grenade_flashbang</th>\n",
              "      <th>ct_grenade_smokegrenade</th>\n",
              "      <th>t_grenade_smokegrenade</th>\n",
              "      <th>ct_grenade_incendiarygrenade</th>\n",
              "      <th>t_grenade_incendiarygrenade</th>\n",
              "      <th>ct_grenade_molotovgrenade</th>\n",
              "      <th>t_grenade_molotovgrenade</th>\n",
              "      <th>ct_grenade_decoygrenade</th>\n",
              "      <th>t_grenade_decoygrenade</th>\n",
              "      <th>round_winner</th>\n",
              "    </tr>\n",
              "  </thead>\n",
              "  <tbody>\n",
              "    <tr>\n",
              "      <th>0</th>\n",
              "      <td>175.00</td>\n",
              "      <td>0.0</td>\n",
              "      <td>0.0</td>\n",
              "      <td>1</td>\n",
              "      <td>0</td>\n",
              "      <td>500.0</td>\n",
              "      <td>500.0</td>\n",
              "      <td>0.0</td>\n",
              "      <td>0.0</td>\n",
              "      <td>4000.0</td>\n",
              "      <td>...</td>\n",
              "      <td>0.0</td>\n",
              "      <td>0.0</td>\n",
              "      <td>0.0</td>\n",
              "      <td>0.0</td>\n",
              "      <td>0.0</td>\n",
              "      <td>0.0</td>\n",
              "      <td>0.0</td>\n",
              "      <td>0.0</td>\n",
              "      <td>0.0</td>\n",
              "      <td>0</td>\n",
              "    </tr>\n",
              "    <tr>\n",
              "      <th>1</th>\n",
              "      <td>156.03</td>\n",
              "      <td>0.0</td>\n",
              "      <td>0.0</td>\n",
              "      <td>1</td>\n",
              "      <td>0</td>\n",
              "      <td>500.0</td>\n",
              "      <td>500.0</td>\n",
              "      <td>400.0</td>\n",
              "      <td>300.0</td>\n",
              "      <td>600.0</td>\n",
              "      <td>...</td>\n",
              "      <td>0.0</td>\n",
              "      <td>0.0</td>\n",
              "      <td>2.0</td>\n",
              "      <td>0.0</td>\n",
              "      <td>0.0</td>\n",
              "      <td>0.0</td>\n",
              "      <td>0.0</td>\n",
              "      <td>0.0</td>\n",
              "      <td>0.0</td>\n",
              "      <td>0</td>\n",
              "    </tr>\n",
              "    <tr>\n",
              "      <th>2</th>\n",
              "      <td>96.03</td>\n",
              "      <td>0.0</td>\n",
              "      <td>0.0</td>\n",
              "      <td>1</td>\n",
              "      <td>0</td>\n",
              "      <td>391.0</td>\n",
              "      <td>400.0</td>\n",
              "      <td>294.0</td>\n",
              "      <td>200.0</td>\n",
              "      <td>750.0</td>\n",
              "      <td>...</td>\n",
              "      <td>0.0</td>\n",
              "      <td>0.0</td>\n",
              "      <td>2.0</td>\n",
              "      <td>0.0</td>\n",
              "      <td>0.0</td>\n",
              "      <td>0.0</td>\n",
              "      <td>0.0</td>\n",
              "      <td>0.0</td>\n",
              "      <td>0.0</td>\n",
              "      <td>0</td>\n",
              "    </tr>\n",
              "    <tr>\n",
              "      <th>3</th>\n",
              "      <td>76.03</td>\n",
              "      <td>0.0</td>\n",
              "      <td>0.0</td>\n",
              "      <td>1</td>\n",
              "      <td>0</td>\n",
              "      <td>391.0</td>\n",
              "      <td>400.0</td>\n",
              "      <td>294.0</td>\n",
              "      <td>200.0</td>\n",
              "      <td>750.0</td>\n",
              "      <td>...</td>\n",
              "      <td>0.0</td>\n",
              "      <td>0.0</td>\n",
              "      <td>0.0</td>\n",
              "      <td>0.0</td>\n",
              "      <td>0.0</td>\n",
              "      <td>0.0</td>\n",
              "      <td>0.0</td>\n",
              "      <td>0.0</td>\n",
              "      <td>0.0</td>\n",
              "      <td>0</td>\n",
              "    </tr>\n",
              "    <tr>\n",
              "      <th>4</th>\n",
              "      <td>174.97</td>\n",
              "      <td>1.0</td>\n",
              "      <td>0.0</td>\n",
              "      <td>1</td>\n",
              "      <td>0</td>\n",
              "      <td>500.0</td>\n",
              "      <td>500.0</td>\n",
              "      <td>192.0</td>\n",
              "      <td>0.0</td>\n",
              "      <td>18350.0</td>\n",
              "      <td>...</td>\n",
              "      <td>0.0</td>\n",
              "      <td>0.0</td>\n",
              "      <td>0.0</td>\n",
              "      <td>0.0</td>\n",
              "      <td>0.0</td>\n",
              "      <td>0.0</td>\n",
              "      <td>0.0</td>\n",
              "      <td>0.0</td>\n",
              "      <td>0.0</td>\n",
              "      <td>0</td>\n",
              "    </tr>\n",
              "  </tbody>\n",
              "</table>\n",
              "<p>5 rows × 97 columns</p>\n",
              "</div>\n",
              "    <div class=\"colab-df-buttons\">\n",
              "\n",
              "  <div class=\"colab-df-container\">\n",
              "    <button class=\"colab-df-convert\" onclick=\"convertToInteractive('df-688401d5-0bdb-4bd7-892f-d9461a640ecc')\"\n",
              "            title=\"Convert this dataframe to an interactive table.\"\n",
              "            style=\"display:none;\">\n",
              "\n",
              "  <svg xmlns=\"http://www.w3.org/2000/svg\" height=\"24px\" viewBox=\"0 -960 960 960\">\n",
              "    <path d=\"M120-120v-720h720v720H120Zm60-500h600v-160H180v160Zm220 220h160v-160H400v160Zm0 220h160v-160H400v160ZM180-400h160v-160H180v160Zm440 0h160v-160H620v160ZM180-180h160v-160H180v160Zm440 0h160v-160H620v160Z\"/>\n",
              "  </svg>\n",
              "    </button>\n",
              "\n",
              "  <style>\n",
              "    .colab-df-container {\n",
              "      display:flex;\n",
              "      gap: 12px;\n",
              "    }\n",
              "\n",
              "    .colab-df-convert {\n",
              "      background-color: #E8F0FE;\n",
              "      border: none;\n",
              "      border-radius: 50%;\n",
              "      cursor: pointer;\n",
              "      display: none;\n",
              "      fill: #1967D2;\n",
              "      height: 32px;\n",
              "      padding: 0 0 0 0;\n",
              "      width: 32px;\n",
              "    }\n",
              "\n",
              "    .colab-df-convert:hover {\n",
              "      background-color: #E2EBFA;\n",
              "      box-shadow: 0px 1px 2px rgba(60, 64, 67, 0.3), 0px 1px 3px 1px rgba(60, 64, 67, 0.15);\n",
              "      fill: #174EA6;\n",
              "    }\n",
              "\n",
              "    .colab-df-buttons div {\n",
              "      margin-bottom: 4px;\n",
              "    }\n",
              "\n",
              "    [theme=dark] .colab-df-convert {\n",
              "      background-color: #3B4455;\n",
              "      fill: #D2E3FC;\n",
              "    }\n",
              "\n",
              "    [theme=dark] .colab-df-convert:hover {\n",
              "      background-color: #434B5C;\n",
              "      box-shadow: 0px 1px 3px 1px rgba(0, 0, 0, 0.15);\n",
              "      filter: drop-shadow(0px 1px 2px rgba(0, 0, 0, 0.3));\n",
              "      fill: #FFFFFF;\n",
              "    }\n",
              "  </style>\n",
              "\n",
              "    <script>\n",
              "      const buttonEl =\n",
              "        document.querySelector('#df-688401d5-0bdb-4bd7-892f-d9461a640ecc button.colab-df-convert');\n",
              "      buttonEl.style.display =\n",
              "        google.colab.kernel.accessAllowed ? 'block' : 'none';\n",
              "\n",
              "      async function convertToInteractive(key) {\n",
              "        const element = document.querySelector('#df-688401d5-0bdb-4bd7-892f-d9461a640ecc');\n",
              "        const dataTable =\n",
              "          await google.colab.kernel.invokeFunction('convertToInteractive',\n",
              "                                                    [key], {});\n",
              "        if (!dataTable) return;\n",
              "\n",
              "        const docLinkHtml = 'Like what you see? Visit the ' +\n",
              "          '<a target=\"_blank\" href=https://colab.research.google.com/notebooks/data_table.ipynb>data table notebook</a>'\n",
              "          + ' to learn more about interactive tables.';\n",
              "        element.innerHTML = '';\n",
              "        dataTable['output_type'] = 'display_data';\n",
              "        await google.colab.output.renderOutput(dataTable, element);\n",
              "        const docLink = document.createElement('div');\n",
              "        docLink.innerHTML = docLinkHtml;\n",
              "        element.appendChild(docLink);\n",
              "      }\n",
              "    </script>\n",
              "  </div>\n",
              "\n",
              "\n",
              "<div id=\"df-6426b02b-2538-4058-810a-cff7fae64aab\">\n",
              "  <button class=\"colab-df-quickchart\" onclick=\"quickchart('df-6426b02b-2538-4058-810a-cff7fae64aab')\"\n",
              "            title=\"Suggest charts\"\n",
              "            style=\"display:none;\">\n",
              "\n",
              "<svg xmlns=\"http://www.w3.org/2000/svg\" height=\"24px\"viewBox=\"0 0 24 24\"\n",
              "     width=\"24px\">\n",
              "    <g>\n",
              "        <path d=\"M19 3H5c-1.1 0-2 .9-2 2v14c0 1.1.9 2 2 2h14c1.1 0 2-.9 2-2V5c0-1.1-.9-2-2-2zM9 17H7v-7h2v7zm4 0h-2V7h2v10zm4 0h-2v-4h2v4z\"/>\n",
              "    </g>\n",
              "</svg>\n",
              "  </button>\n",
              "\n",
              "<style>\n",
              "  .colab-df-quickchart {\n",
              "      --bg-color: #E8F0FE;\n",
              "      --fill-color: #1967D2;\n",
              "      --hover-bg-color: #E2EBFA;\n",
              "      --hover-fill-color: #174EA6;\n",
              "      --disabled-fill-color: #AAA;\n",
              "      --disabled-bg-color: #DDD;\n",
              "  }\n",
              "\n",
              "  [theme=dark] .colab-df-quickchart {\n",
              "      --bg-color: #3B4455;\n",
              "      --fill-color: #D2E3FC;\n",
              "      --hover-bg-color: #434B5C;\n",
              "      --hover-fill-color: #FFFFFF;\n",
              "      --disabled-bg-color: #3B4455;\n",
              "      --disabled-fill-color: #666;\n",
              "  }\n",
              "\n",
              "  .colab-df-quickchart {\n",
              "    background-color: var(--bg-color);\n",
              "    border: none;\n",
              "    border-radius: 50%;\n",
              "    cursor: pointer;\n",
              "    display: none;\n",
              "    fill: var(--fill-color);\n",
              "    height: 32px;\n",
              "    padding: 0;\n",
              "    width: 32px;\n",
              "  }\n",
              "\n",
              "  .colab-df-quickchart:hover {\n",
              "    background-color: var(--hover-bg-color);\n",
              "    box-shadow: 0 1px 2px rgba(60, 64, 67, 0.3), 0 1px 3px 1px rgba(60, 64, 67, 0.15);\n",
              "    fill: var(--button-hover-fill-color);\n",
              "  }\n",
              "\n",
              "  .colab-df-quickchart-complete:disabled,\n",
              "  .colab-df-quickchart-complete:disabled:hover {\n",
              "    background-color: var(--disabled-bg-color);\n",
              "    fill: var(--disabled-fill-color);\n",
              "    box-shadow: none;\n",
              "  }\n",
              "\n",
              "  .colab-df-spinner {\n",
              "    border: 2px solid var(--fill-color);\n",
              "    border-color: transparent;\n",
              "    border-bottom-color: var(--fill-color);\n",
              "    animation:\n",
              "      spin 1s steps(1) infinite;\n",
              "  }\n",
              "\n",
              "  @keyframes spin {\n",
              "    0% {\n",
              "      border-color: transparent;\n",
              "      border-bottom-color: var(--fill-color);\n",
              "      border-left-color: var(--fill-color);\n",
              "    }\n",
              "    20% {\n",
              "      border-color: transparent;\n",
              "      border-left-color: var(--fill-color);\n",
              "      border-top-color: var(--fill-color);\n",
              "    }\n",
              "    30% {\n",
              "      border-color: transparent;\n",
              "      border-left-color: var(--fill-color);\n",
              "      border-top-color: var(--fill-color);\n",
              "      border-right-color: var(--fill-color);\n",
              "    }\n",
              "    40% {\n",
              "      border-color: transparent;\n",
              "      border-right-color: var(--fill-color);\n",
              "      border-top-color: var(--fill-color);\n",
              "    }\n",
              "    60% {\n",
              "      border-color: transparent;\n",
              "      border-right-color: var(--fill-color);\n",
              "    }\n",
              "    80% {\n",
              "      border-color: transparent;\n",
              "      border-right-color: var(--fill-color);\n",
              "      border-bottom-color: var(--fill-color);\n",
              "    }\n",
              "    90% {\n",
              "      border-color: transparent;\n",
              "      border-bottom-color: var(--fill-color);\n",
              "    }\n",
              "  }\n",
              "</style>\n",
              "\n",
              "  <script>\n",
              "    async function quickchart(key) {\n",
              "      const quickchartButtonEl =\n",
              "        document.querySelector('#' + key + ' button');\n",
              "      quickchartButtonEl.disabled = true;  // To prevent multiple clicks.\n",
              "      quickchartButtonEl.classList.add('colab-df-spinner');\n",
              "      try {\n",
              "        const charts = await google.colab.kernel.invokeFunction(\n",
              "            'suggestCharts', [key], {});\n",
              "      } catch (error) {\n",
              "        console.error('Error during call to suggestCharts:', error);\n",
              "      }\n",
              "      quickchartButtonEl.classList.remove('colab-df-spinner');\n",
              "      quickchartButtonEl.classList.add('colab-df-quickchart-complete');\n",
              "    }\n",
              "    (() => {\n",
              "      let quickchartButtonEl =\n",
              "        document.querySelector('#df-6426b02b-2538-4058-810a-cff7fae64aab button');\n",
              "      quickchartButtonEl.style.display =\n",
              "        google.colab.kernel.accessAllowed ? 'block' : 'none';\n",
              "    })();\n",
              "  </script>\n",
              "</div>\n",
              "\n",
              "    </div>\n",
              "  </div>\n"
            ],
            "application/vnd.google.colaboratory.intrinsic+json": {
              "type": "dataframe",
              "variable_name": "df"
            }
          },
          "metadata": {},
          "execution_count": 74
        }
      ],
      "source": [
        "df.head()"
      ]
    },
    {
      "cell_type": "code",
      "execution_count": null,
      "metadata": {
        "id": "32Z3sKwM5vX6"
      },
      "outputs": [],
      "source": [
        "X=df.drop(columns=[\"round_winner\"])  #independent\n",
        "y=df[[\"round_winner\"]]  #dependent"
      ]
    },
    {
      "cell_type": "code",
      "execution_count": null,
      "metadata": {
        "colab": {
          "base_uri": "https://localhost:8080/",
          "height": 255
        },
        "id": "Mp7a7w-pHnBk",
        "outputId": "f6aba402-9226-4ffd-8528-849ed9b01819"
      },
      "outputs": [
        {
          "output_type": "execute_result",
          "data": {
            "text/plain": [
              "   time_left  ct_score  t_score  map  bomb_planted  ct_health  t_health  \\\n",
              "0     175.00       0.0      0.0    1             0      500.0     500.0   \n",
              "1     156.03       0.0      0.0    1             0      500.0     500.0   \n",
              "2      96.03       0.0      0.0    1             0      391.0     400.0   \n",
              "3      76.03       0.0      0.0    1             0      391.0     400.0   \n",
              "4     174.97       1.0      0.0    1             0      500.0     500.0   \n",
              "\n",
              "   ct_armor  t_armor  ct_money  ...  ct_grenade_flashbang  \\\n",
              "0       0.0      0.0    4000.0  ...                   0.0   \n",
              "1     400.0    300.0     600.0  ...                   0.0   \n",
              "2     294.0    200.0     750.0  ...                   0.0   \n",
              "3     294.0    200.0     750.0  ...                   0.0   \n",
              "4     192.0      0.0   18350.0  ...                   0.0   \n",
              "\n",
              "   t_grenade_flashbang  ct_grenade_smokegrenade  t_grenade_smokegrenade  \\\n",
              "0                  0.0                      0.0                     0.0   \n",
              "1                  0.0                      0.0                     2.0   \n",
              "2                  0.0                      0.0                     2.0   \n",
              "3                  0.0                      0.0                     0.0   \n",
              "4                  0.0                      0.0                     0.0   \n",
              "\n",
              "   ct_grenade_incendiarygrenade  t_grenade_incendiarygrenade  \\\n",
              "0                           0.0                          0.0   \n",
              "1                           0.0                          0.0   \n",
              "2                           0.0                          0.0   \n",
              "3                           0.0                          0.0   \n",
              "4                           0.0                          0.0   \n",
              "\n",
              "   ct_grenade_molotovgrenade  t_grenade_molotovgrenade  \\\n",
              "0                        0.0                       0.0   \n",
              "1                        0.0                       0.0   \n",
              "2                        0.0                       0.0   \n",
              "3                        0.0                       0.0   \n",
              "4                        0.0                       0.0   \n",
              "\n",
              "   ct_grenade_decoygrenade  t_grenade_decoygrenade  \n",
              "0                      0.0                     0.0  \n",
              "1                      0.0                     0.0  \n",
              "2                      0.0                     0.0  \n",
              "3                      0.0                     0.0  \n",
              "4                      0.0                     0.0  \n",
              "\n",
              "[5 rows x 96 columns]"
            ],
            "text/html": [
              "\n",
              "  <div id=\"df-bbe10c77-2dee-4862-bd93-f3ed4a86559e\" class=\"colab-df-container\">\n",
              "    <div>\n",
              "<style scoped>\n",
              "    .dataframe tbody tr th:only-of-type {\n",
              "        vertical-align: middle;\n",
              "    }\n",
              "\n",
              "    .dataframe tbody tr th {\n",
              "        vertical-align: top;\n",
              "    }\n",
              "\n",
              "    .dataframe thead th {\n",
              "        text-align: right;\n",
              "    }\n",
              "</style>\n",
              "<table border=\"1\" class=\"dataframe\">\n",
              "  <thead>\n",
              "    <tr style=\"text-align: right;\">\n",
              "      <th></th>\n",
              "      <th>time_left</th>\n",
              "      <th>ct_score</th>\n",
              "      <th>t_score</th>\n",
              "      <th>map</th>\n",
              "      <th>bomb_planted</th>\n",
              "      <th>ct_health</th>\n",
              "      <th>t_health</th>\n",
              "      <th>ct_armor</th>\n",
              "      <th>t_armor</th>\n",
              "      <th>ct_money</th>\n",
              "      <th>...</th>\n",
              "      <th>ct_grenade_flashbang</th>\n",
              "      <th>t_grenade_flashbang</th>\n",
              "      <th>ct_grenade_smokegrenade</th>\n",
              "      <th>t_grenade_smokegrenade</th>\n",
              "      <th>ct_grenade_incendiarygrenade</th>\n",
              "      <th>t_grenade_incendiarygrenade</th>\n",
              "      <th>ct_grenade_molotovgrenade</th>\n",
              "      <th>t_grenade_molotovgrenade</th>\n",
              "      <th>ct_grenade_decoygrenade</th>\n",
              "      <th>t_grenade_decoygrenade</th>\n",
              "    </tr>\n",
              "  </thead>\n",
              "  <tbody>\n",
              "    <tr>\n",
              "      <th>0</th>\n",
              "      <td>175.00</td>\n",
              "      <td>0.0</td>\n",
              "      <td>0.0</td>\n",
              "      <td>1</td>\n",
              "      <td>0</td>\n",
              "      <td>500.0</td>\n",
              "      <td>500.0</td>\n",
              "      <td>0.0</td>\n",
              "      <td>0.0</td>\n",
              "      <td>4000.0</td>\n",
              "      <td>...</td>\n",
              "      <td>0.0</td>\n",
              "      <td>0.0</td>\n",
              "      <td>0.0</td>\n",
              "      <td>0.0</td>\n",
              "      <td>0.0</td>\n",
              "      <td>0.0</td>\n",
              "      <td>0.0</td>\n",
              "      <td>0.0</td>\n",
              "      <td>0.0</td>\n",
              "      <td>0.0</td>\n",
              "    </tr>\n",
              "    <tr>\n",
              "      <th>1</th>\n",
              "      <td>156.03</td>\n",
              "      <td>0.0</td>\n",
              "      <td>0.0</td>\n",
              "      <td>1</td>\n",
              "      <td>0</td>\n",
              "      <td>500.0</td>\n",
              "      <td>500.0</td>\n",
              "      <td>400.0</td>\n",
              "      <td>300.0</td>\n",
              "      <td>600.0</td>\n",
              "      <td>...</td>\n",
              "      <td>0.0</td>\n",
              "      <td>0.0</td>\n",
              "      <td>0.0</td>\n",
              "      <td>2.0</td>\n",
              "      <td>0.0</td>\n",
              "      <td>0.0</td>\n",
              "      <td>0.0</td>\n",
              "      <td>0.0</td>\n",
              "      <td>0.0</td>\n",
              "      <td>0.0</td>\n",
              "    </tr>\n",
              "    <tr>\n",
              "      <th>2</th>\n",
              "      <td>96.03</td>\n",
              "      <td>0.0</td>\n",
              "      <td>0.0</td>\n",
              "      <td>1</td>\n",
              "      <td>0</td>\n",
              "      <td>391.0</td>\n",
              "      <td>400.0</td>\n",
              "      <td>294.0</td>\n",
              "      <td>200.0</td>\n",
              "      <td>750.0</td>\n",
              "      <td>...</td>\n",
              "      <td>0.0</td>\n",
              "      <td>0.0</td>\n",
              "      <td>0.0</td>\n",
              "      <td>2.0</td>\n",
              "      <td>0.0</td>\n",
              "      <td>0.0</td>\n",
              "      <td>0.0</td>\n",
              "      <td>0.0</td>\n",
              "      <td>0.0</td>\n",
              "      <td>0.0</td>\n",
              "    </tr>\n",
              "    <tr>\n",
              "      <th>3</th>\n",
              "      <td>76.03</td>\n",
              "      <td>0.0</td>\n",
              "      <td>0.0</td>\n",
              "      <td>1</td>\n",
              "      <td>0</td>\n",
              "      <td>391.0</td>\n",
              "      <td>400.0</td>\n",
              "      <td>294.0</td>\n",
              "      <td>200.0</td>\n",
              "      <td>750.0</td>\n",
              "      <td>...</td>\n",
              "      <td>0.0</td>\n",
              "      <td>0.0</td>\n",
              "      <td>0.0</td>\n",
              "      <td>0.0</td>\n",
              "      <td>0.0</td>\n",
              "      <td>0.0</td>\n",
              "      <td>0.0</td>\n",
              "      <td>0.0</td>\n",
              "      <td>0.0</td>\n",
              "      <td>0.0</td>\n",
              "    </tr>\n",
              "    <tr>\n",
              "      <th>4</th>\n",
              "      <td>174.97</td>\n",
              "      <td>1.0</td>\n",
              "      <td>0.0</td>\n",
              "      <td>1</td>\n",
              "      <td>0</td>\n",
              "      <td>500.0</td>\n",
              "      <td>500.0</td>\n",
              "      <td>192.0</td>\n",
              "      <td>0.0</td>\n",
              "      <td>18350.0</td>\n",
              "      <td>...</td>\n",
              "      <td>0.0</td>\n",
              "      <td>0.0</td>\n",
              "      <td>0.0</td>\n",
              "      <td>0.0</td>\n",
              "      <td>0.0</td>\n",
              "      <td>0.0</td>\n",
              "      <td>0.0</td>\n",
              "      <td>0.0</td>\n",
              "      <td>0.0</td>\n",
              "      <td>0.0</td>\n",
              "    </tr>\n",
              "  </tbody>\n",
              "</table>\n",
              "<p>5 rows × 96 columns</p>\n",
              "</div>\n",
              "    <div class=\"colab-df-buttons\">\n",
              "\n",
              "  <div class=\"colab-df-container\">\n",
              "    <button class=\"colab-df-convert\" onclick=\"convertToInteractive('df-bbe10c77-2dee-4862-bd93-f3ed4a86559e')\"\n",
              "            title=\"Convert this dataframe to an interactive table.\"\n",
              "            style=\"display:none;\">\n",
              "\n",
              "  <svg xmlns=\"http://www.w3.org/2000/svg\" height=\"24px\" viewBox=\"0 -960 960 960\">\n",
              "    <path d=\"M120-120v-720h720v720H120Zm60-500h600v-160H180v160Zm220 220h160v-160H400v160Zm0 220h160v-160H400v160ZM180-400h160v-160H180v160Zm440 0h160v-160H620v160ZM180-180h160v-160H180v160Zm440 0h160v-160H620v160Z\"/>\n",
              "  </svg>\n",
              "    </button>\n",
              "\n",
              "  <style>\n",
              "    .colab-df-container {\n",
              "      display:flex;\n",
              "      gap: 12px;\n",
              "    }\n",
              "\n",
              "    .colab-df-convert {\n",
              "      background-color: #E8F0FE;\n",
              "      border: none;\n",
              "      border-radius: 50%;\n",
              "      cursor: pointer;\n",
              "      display: none;\n",
              "      fill: #1967D2;\n",
              "      height: 32px;\n",
              "      padding: 0 0 0 0;\n",
              "      width: 32px;\n",
              "    }\n",
              "\n",
              "    .colab-df-convert:hover {\n",
              "      background-color: #E2EBFA;\n",
              "      box-shadow: 0px 1px 2px rgba(60, 64, 67, 0.3), 0px 1px 3px 1px rgba(60, 64, 67, 0.15);\n",
              "      fill: #174EA6;\n",
              "    }\n",
              "\n",
              "    .colab-df-buttons div {\n",
              "      margin-bottom: 4px;\n",
              "    }\n",
              "\n",
              "    [theme=dark] .colab-df-convert {\n",
              "      background-color: #3B4455;\n",
              "      fill: #D2E3FC;\n",
              "    }\n",
              "\n",
              "    [theme=dark] .colab-df-convert:hover {\n",
              "      background-color: #434B5C;\n",
              "      box-shadow: 0px 1px 3px 1px rgba(0, 0, 0, 0.15);\n",
              "      filter: drop-shadow(0px 1px 2px rgba(0, 0, 0, 0.3));\n",
              "      fill: #FFFFFF;\n",
              "    }\n",
              "  </style>\n",
              "\n",
              "    <script>\n",
              "      const buttonEl =\n",
              "        document.querySelector('#df-bbe10c77-2dee-4862-bd93-f3ed4a86559e button.colab-df-convert');\n",
              "      buttonEl.style.display =\n",
              "        google.colab.kernel.accessAllowed ? 'block' : 'none';\n",
              "\n",
              "      async function convertToInteractive(key) {\n",
              "        const element = document.querySelector('#df-bbe10c77-2dee-4862-bd93-f3ed4a86559e');\n",
              "        const dataTable =\n",
              "          await google.colab.kernel.invokeFunction('convertToInteractive',\n",
              "                                                    [key], {});\n",
              "        if (!dataTable) return;\n",
              "\n",
              "        const docLinkHtml = 'Like what you see? Visit the ' +\n",
              "          '<a target=\"_blank\" href=https://colab.research.google.com/notebooks/data_table.ipynb>data table notebook</a>'\n",
              "          + ' to learn more about interactive tables.';\n",
              "        element.innerHTML = '';\n",
              "        dataTable['output_type'] = 'display_data';\n",
              "        await google.colab.output.renderOutput(dataTable, element);\n",
              "        const docLink = document.createElement('div');\n",
              "        docLink.innerHTML = docLinkHtml;\n",
              "        element.appendChild(docLink);\n",
              "      }\n",
              "    </script>\n",
              "  </div>\n",
              "\n",
              "\n",
              "<div id=\"df-a91bea82-ed8b-49ea-b7cf-386bd9348a32\">\n",
              "  <button class=\"colab-df-quickchart\" onclick=\"quickchart('df-a91bea82-ed8b-49ea-b7cf-386bd9348a32')\"\n",
              "            title=\"Suggest charts\"\n",
              "            style=\"display:none;\">\n",
              "\n",
              "<svg xmlns=\"http://www.w3.org/2000/svg\" height=\"24px\"viewBox=\"0 0 24 24\"\n",
              "     width=\"24px\">\n",
              "    <g>\n",
              "        <path d=\"M19 3H5c-1.1 0-2 .9-2 2v14c0 1.1.9 2 2 2h14c1.1 0 2-.9 2-2V5c0-1.1-.9-2-2-2zM9 17H7v-7h2v7zm4 0h-2V7h2v10zm4 0h-2v-4h2v4z\"/>\n",
              "    </g>\n",
              "</svg>\n",
              "  </button>\n",
              "\n",
              "<style>\n",
              "  .colab-df-quickchart {\n",
              "      --bg-color: #E8F0FE;\n",
              "      --fill-color: #1967D2;\n",
              "      --hover-bg-color: #E2EBFA;\n",
              "      --hover-fill-color: #174EA6;\n",
              "      --disabled-fill-color: #AAA;\n",
              "      --disabled-bg-color: #DDD;\n",
              "  }\n",
              "\n",
              "  [theme=dark] .colab-df-quickchart {\n",
              "      --bg-color: #3B4455;\n",
              "      --fill-color: #D2E3FC;\n",
              "      --hover-bg-color: #434B5C;\n",
              "      --hover-fill-color: #FFFFFF;\n",
              "      --disabled-bg-color: #3B4455;\n",
              "      --disabled-fill-color: #666;\n",
              "  }\n",
              "\n",
              "  .colab-df-quickchart {\n",
              "    background-color: var(--bg-color);\n",
              "    border: none;\n",
              "    border-radius: 50%;\n",
              "    cursor: pointer;\n",
              "    display: none;\n",
              "    fill: var(--fill-color);\n",
              "    height: 32px;\n",
              "    padding: 0;\n",
              "    width: 32px;\n",
              "  }\n",
              "\n",
              "  .colab-df-quickchart:hover {\n",
              "    background-color: var(--hover-bg-color);\n",
              "    box-shadow: 0 1px 2px rgba(60, 64, 67, 0.3), 0 1px 3px 1px rgba(60, 64, 67, 0.15);\n",
              "    fill: var(--button-hover-fill-color);\n",
              "  }\n",
              "\n",
              "  .colab-df-quickchart-complete:disabled,\n",
              "  .colab-df-quickchart-complete:disabled:hover {\n",
              "    background-color: var(--disabled-bg-color);\n",
              "    fill: var(--disabled-fill-color);\n",
              "    box-shadow: none;\n",
              "  }\n",
              "\n",
              "  .colab-df-spinner {\n",
              "    border: 2px solid var(--fill-color);\n",
              "    border-color: transparent;\n",
              "    border-bottom-color: var(--fill-color);\n",
              "    animation:\n",
              "      spin 1s steps(1) infinite;\n",
              "  }\n",
              "\n",
              "  @keyframes spin {\n",
              "    0% {\n",
              "      border-color: transparent;\n",
              "      border-bottom-color: var(--fill-color);\n",
              "      border-left-color: var(--fill-color);\n",
              "    }\n",
              "    20% {\n",
              "      border-color: transparent;\n",
              "      border-left-color: var(--fill-color);\n",
              "      border-top-color: var(--fill-color);\n",
              "    }\n",
              "    30% {\n",
              "      border-color: transparent;\n",
              "      border-left-color: var(--fill-color);\n",
              "      border-top-color: var(--fill-color);\n",
              "      border-right-color: var(--fill-color);\n",
              "    }\n",
              "    40% {\n",
              "      border-color: transparent;\n",
              "      border-right-color: var(--fill-color);\n",
              "      border-top-color: var(--fill-color);\n",
              "    }\n",
              "    60% {\n",
              "      border-color: transparent;\n",
              "      border-right-color: var(--fill-color);\n",
              "    }\n",
              "    80% {\n",
              "      border-color: transparent;\n",
              "      border-right-color: var(--fill-color);\n",
              "      border-bottom-color: var(--fill-color);\n",
              "    }\n",
              "    90% {\n",
              "      border-color: transparent;\n",
              "      border-bottom-color: var(--fill-color);\n",
              "    }\n",
              "  }\n",
              "</style>\n",
              "\n",
              "  <script>\n",
              "    async function quickchart(key) {\n",
              "      const quickchartButtonEl =\n",
              "        document.querySelector('#' + key + ' button');\n",
              "      quickchartButtonEl.disabled = true;  // To prevent multiple clicks.\n",
              "      quickchartButtonEl.classList.add('colab-df-spinner');\n",
              "      try {\n",
              "        const charts = await google.colab.kernel.invokeFunction(\n",
              "            'suggestCharts', [key], {});\n",
              "      } catch (error) {\n",
              "        console.error('Error during call to suggestCharts:', error);\n",
              "      }\n",
              "      quickchartButtonEl.classList.remove('colab-df-spinner');\n",
              "      quickchartButtonEl.classList.add('colab-df-quickchart-complete');\n",
              "    }\n",
              "    (() => {\n",
              "      let quickchartButtonEl =\n",
              "        document.querySelector('#df-a91bea82-ed8b-49ea-b7cf-386bd9348a32 button');\n",
              "      quickchartButtonEl.style.display =\n",
              "        google.colab.kernel.accessAllowed ? 'block' : 'none';\n",
              "    })();\n",
              "  </script>\n",
              "</div>\n",
              "\n",
              "    </div>\n",
              "  </div>\n"
            ],
            "application/vnd.google.colaboratory.intrinsic+json": {
              "type": "dataframe",
              "variable_name": "X"
            }
          },
          "metadata": {},
          "execution_count": 76
        }
      ],
      "source": [
        "X.head()"
      ]
    },
    {
      "cell_type": "code",
      "execution_count": null,
      "metadata": {
        "id": "9TIlw4c30qOg"
      },
      "outputs": [],
      "source": [
        "from sklearn.model_selection import train_test_split\n",
        "x_train,x_test,y_train,y_test=train_test_split(X,y,test_size=0.2,random_state=42)"
      ]
    },
    {
      "cell_type": "code",
      "execution_count": null,
      "metadata": {
        "colab": {
          "base_uri": "https://localhost:8080/"
        },
        "id": "lQz1UbD8Mss7",
        "outputId": "d1aa03ca-3647-4f35-a383-37495491fb72"
      },
      "outputs": [
        {
          "output_type": "execute_result",
          "data": {
            "text/plain": [
              "(97928, 96)"
            ]
          },
          "metadata": {},
          "execution_count": 78
        }
      ],
      "source": [
        "x_train.shape"
      ]
    },
    {
      "cell_type": "code",
      "execution_count": null,
      "metadata": {
        "colab": {
          "base_uri": "https://localhost:8080/"
        },
        "id": "u09Acc1_Ms0u",
        "outputId": "e314c25f-62ad-4ae8-c4f7-5909459271a5"
      },
      "outputs": [
        {
          "output_type": "execute_result",
          "data": {
            "text/plain": [
              "(24482, 96)"
            ]
          },
          "metadata": {},
          "execution_count": 79
        }
      ],
      "source": [
        "x_test.shape"
      ]
    },
    {
      "cell_type": "code",
      "execution_count": null,
      "metadata": {
        "colab": {
          "base_uri": "https://localhost:8080/"
        },
        "id": "nB_Bs0XSMs8m",
        "outputId": "fa3d4d08-20c4-4d1d-c17f-3bccea20e559"
      },
      "outputs": [
        {
          "output_type": "execute_result",
          "data": {
            "text/plain": [
              "(97928, 1)"
            ]
          },
          "metadata": {},
          "execution_count": 80
        }
      ],
      "source": [
        "y_train.shape"
      ]
    },
    {
      "cell_type": "code",
      "execution_count": null,
      "metadata": {
        "colab": {
          "base_uri": "https://localhost:8080/"
        },
        "id": "I1XaPp7rMtEZ",
        "outputId": "49b1fe5f-1530-48e3-f816-c95b3cb56b7c"
      },
      "outputs": [
        {
          "output_type": "execute_result",
          "data": {
            "text/plain": [
              "(24482, 1)"
            ]
          },
          "metadata": {},
          "execution_count": 81
        }
      ],
      "source": [
        "y_test.shape"
      ]
    },
    {
      "cell_type": "code",
      "execution_count": null,
      "metadata": {
        "id": "yqgpEMyf-Tev"
      },
      "outputs": [],
      "source": [
        "# Scaling the data\n",
        "from sklearn.preprocessing import StandardScaler\n",
        "sc=StandardScaler()\n",
        "x_train=sc.fit_transform(x_train)\n",
        "x_test=sc.transform(x_test)"
      ]
    },
    {
      "cell_type": "code",
      "execution_count": null,
      "metadata": {
        "id": "MKgKUow842Be"
      },
      "outputs": [],
      "source": [
        "# Applying Linear Discriminant Analysis\n",
        "from sklearn.discriminant_analysis import LinearDiscriminantAnalysis"
      ]
    },
    {
      "cell_type": "code",
      "execution_count": null,
      "metadata": {
        "id": "bzNrZ51l42EI"
      },
      "outputs": [],
      "source": [
        "lda=LinearDiscriminantAnalysis()"
      ]
    },
    {
      "cell_type": "code",
      "execution_count": null,
      "metadata": {
        "colab": {
          "base_uri": "https://localhost:8080/",
          "height": 148
        },
        "id": "rGjqO-nY42Hi",
        "outputId": "006d5ccd-676d-4cb8-e5ab-2ab9eb7c3854"
      },
      "outputs": [
        {
          "output_type": "stream",
          "name": "stderr",
          "text": [
            "/usr/local/lib/python3.10/dist-packages/sklearn/utils/validation.py:1183: DataConversionWarning:\n",
            "\n",
            "A column-vector y was passed when a 1d array was expected. Please change the shape of y to (n_samples, ), for example using ravel().\n",
            "\n"
          ]
        },
        {
          "output_type": "execute_result",
          "data": {
            "text/plain": [
              "LinearDiscriminantAnalysis()"
            ],
            "text/html": [
              "<style>#sk-container-id-1 {color: black;}#sk-container-id-1 pre{padding: 0;}#sk-container-id-1 div.sk-toggleable {background-color: white;}#sk-container-id-1 label.sk-toggleable__label {cursor: pointer;display: block;width: 100%;margin-bottom: 0;padding: 0.3em;box-sizing: border-box;text-align: center;}#sk-container-id-1 label.sk-toggleable__label-arrow:before {content: \"▸\";float: left;margin-right: 0.25em;color: #696969;}#sk-container-id-1 label.sk-toggleable__label-arrow:hover:before {color: black;}#sk-container-id-1 div.sk-estimator:hover label.sk-toggleable__label-arrow:before {color: black;}#sk-container-id-1 div.sk-toggleable__content {max-height: 0;max-width: 0;overflow: hidden;text-align: left;background-color: #f0f8ff;}#sk-container-id-1 div.sk-toggleable__content pre {margin: 0.2em;color: black;border-radius: 0.25em;background-color: #f0f8ff;}#sk-container-id-1 input.sk-toggleable__control:checked~div.sk-toggleable__content {max-height: 200px;max-width: 100%;overflow: auto;}#sk-container-id-1 input.sk-toggleable__control:checked~label.sk-toggleable__label-arrow:before {content: \"▾\";}#sk-container-id-1 div.sk-estimator input.sk-toggleable__control:checked~label.sk-toggleable__label {background-color: #d4ebff;}#sk-container-id-1 div.sk-label input.sk-toggleable__control:checked~label.sk-toggleable__label {background-color: #d4ebff;}#sk-container-id-1 input.sk-hidden--visually {border: 0;clip: rect(1px 1px 1px 1px);clip: rect(1px, 1px, 1px, 1px);height: 1px;margin: -1px;overflow: hidden;padding: 0;position: absolute;width: 1px;}#sk-container-id-1 div.sk-estimator {font-family: monospace;background-color: #f0f8ff;border: 1px dotted black;border-radius: 0.25em;box-sizing: border-box;margin-bottom: 0.5em;}#sk-container-id-1 div.sk-estimator:hover {background-color: #d4ebff;}#sk-container-id-1 div.sk-parallel-item::after {content: \"\";width: 100%;border-bottom: 1px solid gray;flex-grow: 1;}#sk-container-id-1 div.sk-label:hover label.sk-toggleable__label {background-color: #d4ebff;}#sk-container-id-1 div.sk-serial::before {content: \"\";position: absolute;border-left: 1px solid gray;box-sizing: border-box;top: 0;bottom: 0;left: 50%;z-index: 0;}#sk-container-id-1 div.sk-serial {display: flex;flex-direction: column;align-items: center;background-color: white;padding-right: 0.2em;padding-left: 0.2em;position: relative;}#sk-container-id-1 div.sk-item {position: relative;z-index: 1;}#sk-container-id-1 div.sk-parallel {display: flex;align-items: stretch;justify-content: center;background-color: white;position: relative;}#sk-container-id-1 div.sk-item::before, #sk-container-id-1 div.sk-parallel-item::before {content: \"\";position: absolute;border-left: 1px solid gray;box-sizing: border-box;top: 0;bottom: 0;left: 50%;z-index: -1;}#sk-container-id-1 div.sk-parallel-item {display: flex;flex-direction: column;z-index: 1;position: relative;background-color: white;}#sk-container-id-1 div.sk-parallel-item:first-child::after {align-self: flex-end;width: 50%;}#sk-container-id-1 div.sk-parallel-item:last-child::after {align-self: flex-start;width: 50%;}#sk-container-id-1 div.sk-parallel-item:only-child::after {width: 0;}#sk-container-id-1 div.sk-dashed-wrapped {border: 1px dashed gray;margin: 0 0.4em 0.5em 0.4em;box-sizing: border-box;padding-bottom: 0.4em;background-color: white;}#sk-container-id-1 div.sk-label label {font-family: monospace;font-weight: bold;display: inline-block;line-height: 1.2em;}#sk-container-id-1 div.sk-label-container {text-align: center;}#sk-container-id-1 div.sk-container {/* jupyter's `normalize.less` sets `[hidden] { display: none; }` but bootstrap.min.css set `[hidden] { display: none !important; }` so we also need the `!important` here to be able to override the default hidden behavior on the sphinx rendered scikit-learn.org. See: https://github.com/scikit-learn/scikit-learn/issues/21755 */display: inline-block !important;position: relative;}#sk-container-id-1 div.sk-text-repr-fallback {display: none;}</style><div id=\"sk-container-id-1\" class=\"sk-top-container\"><div class=\"sk-text-repr-fallback\"><pre>LinearDiscriminantAnalysis()</pre><b>In a Jupyter environment, please rerun this cell to show the HTML representation or trust the notebook. <br />On GitHub, the HTML representation is unable to render, please try loading this page with nbviewer.org.</b></div><div class=\"sk-container\" hidden><div class=\"sk-item\"><div class=\"sk-estimator sk-toggleable\"><input class=\"sk-toggleable__control sk-hidden--visually\" id=\"sk-estimator-id-1\" type=\"checkbox\" checked><label for=\"sk-estimator-id-1\" class=\"sk-toggleable__label sk-toggleable__label-arrow\">LinearDiscriminantAnalysis</label><div class=\"sk-toggleable__content\"><pre>LinearDiscriminantAnalysis()</pre></div></div></div></div></div>"
            ]
          },
          "metadata": {},
          "execution_count": 85
        }
      ],
      "source": [
        "lda.fit(x_train,y_train)"
      ]
    },
    {
      "cell_type": "code",
      "execution_count": null,
      "metadata": {
        "colab": {
          "base_uri": "https://localhost:8080/"
        },
        "id": "n7Ef_6Fp9Y70",
        "outputId": "7646da57-6f71-4abe-9dc7-dbb31fe6e773"
      },
      "outputs": [
        {
          "output_type": "execute_result",
          "data": {
            "text/plain": [
              "array([[-0.31066701],\n",
              "       [ 0.16160545],\n",
              "       [-2.19522227],\n",
              "       ...,\n",
              "       [ 2.91456775],\n",
              "       [-1.65102466],\n",
              "       [ 0.99528168]])"
            ]
          },
          "metadata": {},
          "execution_count": 86
        }
      ],
      "source": [
        "lda.transform(x_test)"
      ]
    },
    {
      "cell_type": "code",
      "execution_count": null,
      "metadata": {
        "id": "84gFGHI55jf-"
      },
      "outputs": [],
      "source": [
        "# Obtaining the LDA coefficients.This will give the importance scores associated with each feature."
      ]
    },
    {
      "cell_type": "code",
      "execution_count": null,
      "metadata": {
        "id": "sSkSRd43_OZe"
      },
      "outputs": [],
      "source": [
        "lda_coefficients=np.exp(np.abs(lda.coef_))"
      ]
    },
    {
      "cell_type": "code",
      "execution_count": null,
      "metadata": {
        "colab": {
          "base_uri": "https://localhost:8080/"
        },
        "id": "Q-m-js6pQdmj",
        "outputId": "28ad59d6-1a51-4efc-e793-2ea71b8e8096"
      },
      "outputs": [
        {
          "output_type": "execute_result",
          "data": {
            "text/plain": [
              "array([[1.14051375, 1.02348232, 1.02361012, 1.08711166, 1.26443741,\n",
              "        1.56896428, 1.42226149, 1.71174795, 1.72149378, 1.22695841,\n",
              "        1.17629264, 1.02925519, 1.17393359, 1.01233178, 1.17701202,\n",
              "        1.26888831, 1.21975251, 1.80580698, 1.22872837, 1.03124048,\n",
              "        1.37208174, 1.26351299, 1.        , 1.00130014, 1.00099319,\n",
              "        1.03406233, 1.01079854, 1.01589366, 1.1511331 , 1.0481572 ,\n",
              "        1.        , 1.01891369, 1.04559279, 1.13912974, 1.02386319,\n",
              "        1.01009894, 1.        , 1.        , 1.10758456, 1.051198  ,\n",
              "        1.62280372, 1.10928011, 1.01408145, 1.11733322, 1.02306813,\n",
              "        1.00594113, 1.01383628, 1.04016588, 1.00546389, 1.00296978,\n",
              "        1.1231047 , 1.0350133 , 1.        , 1.00757676, 1.02090408,\n",
              "        1.00405543, 1.0252188 , 1.01962772, 1.        , 1.00493109,\n",
              "        1.        , 1.01827676, 1.00401758, 1.01179667, 1.24546089,\n",
              "        1.71649302, 1.08595734, 1.01928052, 1.05378886, 1.0817296 ,\n",
              "        1.0223457 , 1.00392739, 1.00787732, 1.06560713, 1.02458755,\n",
              "        1.02585421, 1.07987292, 1.07637588, 1.03850144, 1.02942838,\n",
              "        1.0461802 , 1.02050308, 1.0093683 , 1.02047298, 1.00675662,\n",
              "        1.0023777 , 1.03143135, 1.21721335, 1.06075101, 1.26371818,\n",
              "        1.12626069, 1.01006317, 1.00852246, 1.10424102, 1.00231651,\n",
              "        1.03293193]])"
            ]
          },
          "metadata": {},
          "execution_count": 89
        }
      ],
      "source": [
        "lda_coefficients"
      ]
    },
    {
      "cell_type": "code",
      "execution_count": null,
      "metadata": {
        "id": "oakJwPxjD5sW"
      },
      "outputs": [],
      "source": [
        "lda_coefficients= lda_coefficients.flatten()"
      ]
    },
    {
      "cell_type": "code",
      "execution_count": null,
      "metadata": {
        "colab": {
          "base_uri": "https://localhost:8080/"
        },
        "id": "73uuPon8PgV4",
        "outputId": "25cc5d82-4c30-40c5-f0c4-ba3ce1178452"
      },
      "outputs": [
        {
          "output_type": "stream",
          "name": "stdout",
          "text": [
            "[1 2 3 4 5 6]\n"
          ]
        }
      ],
      "source": [
        "#work of flatten\n",
        "a=np.array([[1,2,3],[4,5,6]])\n",
        "a_flat=a.flatten()\n",
        "print(a_flat)"
      ]
    },
    {
      "cell_type": "code",
      "execution_count": null,
      "metadata": {
        "colab": {
          "base_uri": "https://localhost:8080/"
        },
        "id": "OnwgXz9Eveaq",
        "outputId": "dffa228b-50d7-47bb-9e40-ce01d32e40d9"
      },
      "outputs": [
        {
          "output_type": "execute_result",
          "data": {
            "text/plain": [
              "array([1.14051375, 1.02348232, 1.02361012, 1.08711166, 1.26443741,\n",
              "       1.56896428, 1.42226149, 1.71174795, 1.72149378, 1.22695841,\n",
              "       1.17629264, 1.02925519, 1.17393359, 1.01233178, 1.17701202,\n",
              "       1.26888831, 1.21975251, 1.80580698, 1.22872837, 1.03124048,\n",
              "       1.37208174, 1.26351299, 1.        , 1.00130014, 1.00099319,\n",
              "       1.03406233, 1.01079854, 1.01589366, 1.1511331 , 1.0481572 ,\n",
              "       1.        , 1.01891369, 1.04559279, 1.13912974, 1.02386319,\n",
              "       1.01009894, 1.        , 1.        , 1.10758456, 1.051198  ,\n",
              "       1.62280372, 1.10928011, 1.01408145, 1.11733322, 1.02306813,\n",
              "       1.00594113, 1.01383628, 1.04016588, 1.00546389, 1.00296978,\n",
              "       1.1231047 , 1.0350133 , 1.        , 1.00757676, 1.02090408,\n",
              "       1.00405543, 1.0252188 , 1.01962772, 1.        , 1.00493109,\n",
              "       1.        , 1.01827676, 1.00401758, 1.01179667, 1.24546089,\n",
              "       1.71649302, 1.08595734, 1.01928052, 1.05378886, 1.0817296 ,\n",
              "       1.0223457 , 1.00392739, 1.00787732, 1.06560713, 1.02458755,\n",
              "       1.02585421, 1.07987292, 1.07637588, 1.03850144, 1.02942838,\n",
              "       1.0461802 , 1.02050308, 1.0093683 , 1.02047298, 1.00675662,\n",
              "       1.0023777 , 1.03143135, 1.21721335, 1.06075101, 1.26371818,\n",
              "       1.12626069, 1.01006317, 1.00852246, 1.10424102, 1.00231651,\n",
              "       1.03293193])"
            ]
          },
          "metadata": {},
          "execution_count": 92
        }
      ],
      "source": [
        "lda_coefficients"
      ]
    },
    {
      "cell_type": "code",
      "execution_count": null,
      "metadata": {
        "colab": {
          "base_uri": "https://localhost:8080/"
        },
        "id": "USRZVQNm39N2",
        "outputId": "b2f6d0d7-3b4c-4751-b7f0-010703e94cca"
      },
      "outputs": [
        {
          "output_type": "execute_result",
          "data": {
            "text/plain": [
              "(122410, 96)"
            ]
          },
          "metadata": {},
          "execution_count": 93
        }
      ],
      "source": [
        "X.shape"
      ]
    },
    {
      "cell_type": "code",
      "execution_count": null,
      "metadata": {
        "id": "OWq27EzEhLkt"
      },
      "outputs": [],
      "source": [
        "num_features=X.shape[1]"
      ]
    },
    {
      "cell_type": "code",
      "execution_count": null,
      "metadata": {
        "colab": {
          "base_uri": "https://localhost:8080/"
        },
        "id": "TEtbm8zMnvM1",
        "outputId": "1bff3e33-70a0-4c0d-bc8f-be814fab8b80"
      },
      "outputs": [
        {
          "output_type": "execute_result",
          "data": {
            "text/plain": [
              "96"
            ]
          },
          "metadata": {},
          "execution_count": 95
        }
      ],
      "source": [
        "num_features"
      ]
    },
    {
      "cell_type": "code",
      "execution_count": null,
      "metadata": {
        "id": "X80sTf4gm4fZ"
      },
      "outputs": [],
      "source": [
        "feature_indices=np.arange(num_features)"
      ]
    },
    {
      "cell_type": "code",
      "execution_count": null,
      "metadata": {
        "colab": {
          "base_uri": "https://localhost:8080/"
        },
        "id": "RQ4NMQw8oW1b",
        "outputId": "d0a8f59f-b9de-41cf-cce1-ae021ad79ecc"
      },
      "outputs": [
        {
          "output_type": "execute_result",
          "data": {
            "text/plain": [
              "array([ 0,  1,  2,  3,  4,  5,  6,  7,  8,  9, 10, 11, 12, 13, 14, 15, 16,\n",
              "       17, 18, 19, 20, 21, 22, 23, 24, 25, 26, 27, 28, 29, 30, 31, 32, 33,\n",
              "       34, 35, 36, 37, 38, 39, 40, 41, 42, 43, 44, 45, 46, 47, 48, 49, 50,\n",
              "       51, 52, 53, 54, 55, 56, 57, 58, 59, 60, 61, 62, 63, 64, 65, 66, 67,\n",
              "       68, 69, 70, 71, 72, 73, 74, 75, 76, 77, 78, 79, 80, 81, 82, 83, 84,\n",
              "       85, 86, 87, 88, 89, 90, 91, 92, 93, 94, 95])"
            ]
          },
          "metadata": {},
          "execution_count": 97
        }
      ],
      "source": [
        "feature_indices"
      ]
    },
    {
      "cell_type": "code",
      "execution_count": null,
      "metadata": {
        "id": "Vn4RLx-yn64u"
      },
      "outputs": [],
      "source": [
        "feature_names=list(X.columns)"
      ]
    },
    {
      "cell_type": "code",
      "execution_count": null,
      "metadata": {
        "colab": {
          "base_uri": "https://localhost:8080/",
          "height": 621
        },
        "id": "0jNSmK4eoRQ6",
        "outputId": "be9f2f0f-1062-443d-ada8-b9002c11cf1a"
      },
      "outputs": [
        {
          "output_type": "display_data",
          "data": {
            "text/plain": [
              "<Figure size 1500x500 with 1 Axes>"
            ],
            "image/png": "[encoded data removed]"
          },
          "metadata": {}
        }
      ],
      "source": [
        "plt.figure(figsize=(15,5))\n",
        "plt.bar(feature_indices,lda_coefficients)\n",
        "plt.xticks(feature_indices,feature_names,rotation=\"vertical\")\n",
        "plt.xlabel('Feature')\n",
        "plt.ylabel('Importance Score')\n",
        "plt.title('Feature Importance Scores')\n",
        "plt.show()"
      ]
    },
    {
      "cell_type": "code",
      "execution_count": null,
      "metadata": {
        "id": "MpSccyj67X95"
      },
      "outputs": [],
      "source": [
        "# Performing feature selection using LDA by using the absolute values of the\n",
        "# LDA coefficients as a measure of feature importance."
      ]
    },
    {
      "cell_type": "code",
      "execution_count": null,
      "metadata": {
        "id": "5ipXnoSWp4DY"
      },
      "outputs": [],
      "source": [
        "df_feature_score=pd.DataFrame({\"Feature_names\":feature_names,\"feature_scores\":lda_coefficients})"
      ]
    },
    {
      "cell_type": "code",
      "execution_count": null,
      "metadata": {
        "id": "fNWFqethyFCJ"
      },
      "outputs": [],
      "source": [
        "top_20_values=df_feature_score.nlargest(20,'feature_scores')"
      ]
    },
    {
      "cell_type": "code",
      "execution_count": null,
      "metadata": {
        "id": "0gmvZ6BT7n2b"
      },
      "outputs": [],
      "source": [
        "# Selecting the top 20 features based on the feature importance"
      ]
    },
    {
      "cell_type": "code",
      "execution_count": null,
      "metadata": {
        "colab": {
          "base_uri": "https://localhost:8080/",
          "height": 676
        },
        "id": "gXf_Q24u3-BY",
        "outputId": "319ea887-1c22-452d-b1a1-e48e38d8cc9e"
      },
      "outputs": [
        {
          "output_type": "execute_result",
          "data": {
            "text/plain": [
              "             Feature_names  feature_scores\n",
              "17           t_weapon_ak47        1.805807\n",
              "8                  t_armor        1.721494\n",
              "65          t_weapon_sg553        1.716493\n",
              "7                 ct_armor        1.711748\n",
              "40          ct_weapon_m4a4        1.622804\n",
              "5                ct_health        1.568964\n",
              "6                 t_health        1.422261\n",
              "20           ct_weapon_awp        1.372082\n",
              "15         t_players_alive        1.268888\n",
              "4             bomb_planted        1.264437\n",
              "89  t_grenade_smokegrenade        1.263718\n",
              "21            t_weapon_awp        1.263513\n",
              "64         ct_weapon_sg553        1.245461\n",
              "18           ct_weapon_aug        1.228728\n",
              "9                 ct_money        1.226958\n",
              "16          ct_weapon_ak47        1.219753\n",
              "87     t_grenade_flashbang        1.217213\n",
              "14        ct_players_alive        1.177012\n",
              "10                 t_money        1.176293\n",
              "12               t_helmets        1.173934"
            ],
            "text/html": [
              "\n",
              "  <div id=\"df-757278c5-70ba-4bb8-ac4b-337140860bf3\" class=\"colab-df-container\">\n",
              "    <div>\n",
              "<style scoped>\n",
              "    .dataframe tbody tr th:only-of-type {\n",
              "        vertical-align: middle;\n",
              "    }\n",
              "\n",
              "    .dataframe tbody tr th {\n",
              "        vertical-align: top;\n",
              "    }\n",
              "\n",
              "    .dataframe thead th {\n",
              "        text-align: right;\n",
              "    }\n",
              "</style>\n",
              "<table border=\"1\" class=\"dataframe\">\n",
              "  <thead>\n",
              "    <tr style=\"text-align: right;\">\n",
              "      <th></th>\n",
              "      <th>Feature_names</th>\n",
              "      <th>feature_scores</th>\n",
              "    </tr>\n",
              "  </thead>\n",
              "  <tbody>\n",
              "    <tr>\n",
              "      <th>17</th>\n",
              "      <td>t_weapon_ak47</td>\n",
              "      <td>1.805807</td>\n",
              "    </tr>\n",
              "    <tr>\n",
              "      <th>8</th>\n",
              "      <td>t_armor</td>\n",
              "      <td>1.721494</td>\n",
              "    </tr>\n",
              "    <tr>\n",
              "      <th>65</th>\n",
              "      <td>t_weapon_sg553</td>\n",
              "      <td>1.716493</td>\n",
              "    </tr>\n",
              "    <tr>\n",
              "      <th>7</th>\n",
              "      <td>ct_armor</td>\n",
              "      <td>1.711748</td>\n",
              "    </tr>\n",
              "    <tr>\n",
              "      <th>40</th>\n",
              "      <td>ct_weapon_m4a4</td>\n",
              "      <td>1.622804</td>\n",
              "    </tr>\n",
              "    <tr>\n",
              "      <th>5</th>\n",
              "      <td>ct_health</td>\n",
              "      <td>1.568964</td>\n",
              "    </tr>\n",
              "    <tr>\n",
              "      <th>6</th>\n",
              "      <td>t_health</td>\n",
              "      <td>1.422261</td>\n",
              "    </tr>\n",
              "    <tr>\n",
              "      <th>20</th>\n",
              "      <td>ct_weapon_awp</td>\n",
              "      <td>1.372082</td>\n",
              "    </tr>\n",
              "    <tr>\n",
              "      <th>15</th>\n",
              "      <td>t_players_alive</td>\n",
              "      <td>1.268888</td>\n",
              "    </tr>\n",
              "    <tr>\n",
              "      <th>4</th>\n",
              "      <td>bomb_planted</td>\n",
              "      <td>1.264437</td>\n",
              "    </tr>\n",
              "    <tr>\n",
              "      <th>89</th>\n",
              "      <td>t_grenade_smokegrenade</td>\n",
              "      <td>1.263718</td>\n",
              "    </tr>\n",
              "    <tr>\n",
              "      <th>21</th>\n",
              "      <td>t_weapon_awp</td>\n",
              "      <td>1.263513</td>\n",
              "    </tr>\n",
              "    <tr>\n",
              "      <th>64</th>\n",
              "      <td>ct_weapon_sg553</td>\n",
              "      <td>1.245461</td>\n",
              "    </tr>\n",
              "    <tr>\n",
              "      <th>18</th>\n",
              "      <td>ct_weapon_aug</td>\n",
              "      <td>1.228728</td>\n",
              "    </tr>\n",
              "    <tr>\n",
              "      <th>9</th>\n",
              "      <td>ct_money</td>\n",
              "      <td>1.226958</td>\n",
              "    </tr>\n",
              "    <tr>\n",
              "      <th>16</th>\n",
              "      <td>ct_weapon_ak47</td>\n",
              "      <td>1.219753</td>\n",
              "    </tr>\n",
              "    <tr>\n",
              "      <th>87</th>\n",
              "      <td>t_grenade_flashbang</td>\n",
              "      <td>1.217213</td>\n",
              "    </tr>\n",
              "    <tr>\n",
              "      <th>14</th>\n",
              "      <td>ct_players_alive</td>\n",
              "      <td>1.177012</td>\n",
              "    </tr>\n",
              "    <tr>\n",
              "      <th>10</th>\n",
              "      <td>t_money</td>\n",
              "      <td>1.176293</td>\n",
              "    </tr>\n",
              "    <tr>\n",
              "      <th>12</th>\n",
              "      <td>t_helmets</td>\n",
              "      <td>1.173934</td>\n",
              "    </tr>\n",
              "  </tbody>\n",
              "</table>\n",
              "</div>\n",
              "    <div class=\"colab-df-buttons\">\n",
              "\n",
              "  <div class=\"colab-df-container\">\n",
              "    <button class=\"colab-df-convert\" onclick=\"convertToInteractive('df-757278c5-70ba-4bb8-ac4b-337140860bf3')\"\n",
              "            title=\"Convert this dataframe to an interactive table.\"\n",
              "            style=\"display:none;\">\n",
              "\n",
              "  <svg xmlns=\"http://www.w3.org/2000/svg\" height=\"24px\" viewBox=\"0 -960 960 960\">\n",
              "    <path d=\"M120-120v-720h720v720H120Zm60-500h600v-160H180v160Zm220 220h160v-160H400v160Zm0 220h160v-160H400v160ZM180-400h160v-160H180v160Zm440 0h160v-160H620v160ZM180-180h160v-160H180v160Zm440 0h160v-160H620v160Z\"/>\n",
              "  </svg>\n",
              "    </button>\n",
              "\n",
              "  <style>\n",
              "    .colab-df-container {\n",
              "      display:flex;\n",
              "      gap: 12px;\n",
              "    }\n",
              "\n",
              "    .colab-df-convert {\n",
              "      background-color: #E8F0FE;\n",
              "      border: none;\n",
              "      border-radius: 50%;\n",
              "      cursor: pointer;\n",
              "      display: none;\n",
              "      fill: #1967D2;\n",
              "      height: 32px;\n",
              "      padding: 0 0 0 0;\n",
              "      width: 32px;\n",
              "    }\n",
              "\n",
              "    .colab-df-convert:hover {\n",
              "      background-color: #E2EBFA;\n",
              "      box-shadow: 0px 1px 2px rgba(60, 64, 67, 0.3), 0px 1px 3px 1px rgba(60, 64, 67, 0.15);\n",
              "      fill: #174EA6;\n",
              "    }\n",
              "\n",
              "    .colab-df-buttons div {\n",
              "      margin-bottom: 4px;\n",
              "    }\n",
              "\n",
              "    [theme=dark] .colab-df-convert {\n",
              "      background-color: #3B4455;\n",
              "      fill: #D2E3FC;\n",
              "    }\n",
              "\n",
              "    [theme=dark] .colab-df-convert:hover {\n",
              "      background-color: #434B5C;\n",
              "      box-shadow: 0px 1px 3px 1px rgba(0, 0, 0, 0.15);\n",
              "      filter: drop-shadow(0px 1px 2px rgba(0, 0, 0, 0.3));\n",
              "      fill: #FFFFFF;\n",
              "    }\n",
              "  </style>\n",
              "\n",
              "    <script>\n",
              "      const buttonEl =\n",
              "        document.querySelector('#df-757278c5-70ba-4bb8-ac4b-337140860bf3 button.colab-df-convert');\n",
              "      buttonEl.style.display =\n",
              "        google.colab.kernel.accessAllowed ? 'block' : 'none';\n",
              "\n",
              "      async function convertToInteractive(key) {\n",
              "        const element = document.querySelector('#df-757278c5-70ba-4bb8-ac4b-337140860bf3');\n",
              "        const dataTable =\n",
              "          await google.colab.kernel.invokeFunction('convertToInteractive',\n",
              "                                                    [key], {});\n",
              "        if (!dataTable) return;\n",
              "\n",
              "        const docLinkHtml = 'Like what you see? Visit the ' +\n",
              "          '<a target=\"_blank\" href=https://colab.research.google.com/notebooks/data_table.ipynb>data table notebook</a>'\n",
              "          + ' to learn more about interactive tables.';\n",
              "        element.innerHTML = '';\n",
              "        dataTable['output_type'] = 'display_data';\n",
              "        await google.colab.output.renderOutput(dataTable, element);\n",
              "        const docLink = document.createElement('div');\n",
              "        docLink.innerHTML = docLinkHtml;\n",
              "        element.appendChild(docLink);\n",
              "      }\n",
              "    </script>\n",
              "  </div>\n",
              "\n",
              "\n",
              "<div id=\"df-1298353d-3c66-4dd1-b752-474bdf53c164\">\n",
              "  <button class=\"colab-df-quickchart\" onclick=\"quickchart('df-1298353d-3c66-4dd1-b752-474bdf53c164')\"\n",
              "            title=\"Suggest charts\"\n",
              "            style=\"display:none;\">\n",
              "\n",
              "<svg xmlns=\"http://www.w3.org/2000/svg\" height=\"24px\"viewBox=\"0 0 24 24\"\n",
              "     width=\"24px\">\n",
              "    <g>\n",
              "        <path d=\"M19 3H5c-1.1 0-2 .9-2 2v14c0 1.1.9 2 2 2h14c1.1 0 2-.9 2-2V5c0-1.1-.9-2-2-2zM9 17H7v-7h2v7zm4 0h-2V7h2v10zm4 0h-2v-4h2v4z\"/>\n",
              "    </g>\n",
              "</svg>\n",
              "  </button>\n",
              "\n",
              "<style>\n",
              "  .colab-df-quickchart {\n",
              "      --bg-color: #E8F0FE;\n",
              "      --fill-color: #1967D2;\n",
              "      --hover-bg-color: #E2EBFA;\n",
              "      --hover-fill-color: #174EA6;\n",
              "      --disabled-fill-color: #AAA;\n",
              "      --disabled-bg-color: #DDD;\n",
              "  }\n",
              "\n",
              "  [theme=dark] .colab-df-quickchart {\n",
              "      --bg-color: #3B4455;\n",
              "      --fill-color: #D2E3FC;\n",
              "      --hover-bg-color: #434B5C;\n",
              "      --hover-fill-color: #FFFFFF;\n",
              "      --disabled-bg-color: #3B4455;\n",
              "      --disabled-fill-color: #666;\n",
              "  }\n",
              "\n",
              "  .colab-df-quickchart {\n",
              "    background-color: var(--bg-color);\n",
              "    border: none;\n",
              "    border-radius: 50%;\n",
              "    cursor: pointer;\n",
              "    display: none;\n",
              "    fill: var(--fill-color);\n",
              "    height: 32px;\n",
              "    padding: 0;\n",
              "    width: 32px;\n",
              "  }\n",
              "\n",
              "  .colab-df-quickchart:hover {\n",
              "    background-color: var(--hover-bg-color);\n",
              "    box-shadow: 0 1px 2px rgba(60, 64, 67, 0.3), 0 1px 3px 1px rgba(60, 64, 67, 0.15);\n",
              "    fill: var(--button-hover-fill-color);\n",
              "  }\n",
              "\n",
              "  .colab-df-quickchart-complete:disabled,\n",
              "  .colab-df-quickchart-complete:disabled:hover {\n",
              "    background-color: var(--disabled-bg-color);\n",
              "    fill: var(--disabled-fill-color);\n",
              "    box-shadow: none;\n",
              "  }\n",
              "\n",
              "  .colab-df-spinner {\n",
              "    border: 2px solid var(--fill-color);\n",
              "    border-color: transparent;\n",
              "    border-bottom-color: var(--fill-color);\n",
              "    animation:\n",
              "      spin 1s steps(1) infinite;\n",
              "  }\n",
              "\n",
              "  @keyframes spin {\n",
              "    0% {\n",
              "      border-color: transparent;\n",
              "      border-bottom-color: var(--fill-color);\n",
              "      border-left-color: var(--fill-color);\n",
              "    }\n",
              "    20% {\n",
              "      border-color: transparent;\n",
              "      border-left-color: var(--fill-color);\n",
              "      border-top-color: var(--fill-color);\n",
              "    }\n",
              "    30% {\n",
              "      border-color: transparent;\n",
              "      border-left-color: var(--fill-color);\n",
              "      border-top-color: var(--fill-color);\n",
              "      border-right-color: var(--fill-color);\n",
              "    }\n",
              "    40% {\n",
              "      border-color: transparent;\n",
              "      border-right-color: var(--fill-color);\n",
              "      border-top-color: var(--fill-color);\n",
              "    }\n",
              "    60% {\n",
              "      border-color: transparent;\n",
              "      border-right-color: var(--fill-color);\n",
              "    }\n",
              "    80% {\n",
              "      border-color: transparent;\n",
              "      border-right-color: var(--fill-color);\n",
              "      border-bottom-color: var(--fill-color);\n",
              "    }\n",
              "    90% {\n",
              "      border-color: transparent;\n",
              "      border-bottom-color: var(--fill-color);\n",
              "    }\n",
              "  }\n",
              "</style>\n",
              "\n",
              "  <script>\n",
              "    async function quickchart(key) {\n",
              "      const quickchartButtonEl =\n",
              "        document.querySelector('#' + key + ' button');\n",
              "      quickchartButtonEl.disabled = true;  // To prevent multiple clicks.\n",
              "      quickchartButtonEl.classList.add('colab-df-spinner');\n",
              "      try {\n",
              "        const charts = await google.colab.kernel.invokeFunction(\n",
              "            'suggestCharts', [key], {});\n",
              "      } catch (error) {\n",
              "        console.error('Error during call to suggestCharts:', error);\n",
              "      }\n",
              "      quickchartButtonEl.classList.remove('colab-df-spinner');\n",
              "      quickchartButtonEl.classList.add('colab-df-quickchart-complete');\n",
              "    }\n",
              "    (() => {\n",
              "      let quickchartButtonEl =\n",
              "        document.querySelector('#df-1298353d-3c66-4dd1-b752-474bdf53c164 button');\n",
              "      quickchartButtonEl.style.display =\n",
              "        google.colab.kernel.accessAllowed ? 'block' : 'none';\n",
              "    })();\n",
              "  </script>\n",
              "</div>\n",
              "\n",
              "    </div>\n",
              "  </div>\n"
            ],
            "application/vnd.google.colaboratory.intrinsic+json": {
              "type": "dataframe",
              "variable_name": "top_20_values",
              "summary": "{\n  \"name\": \"top_20_values\",\n  \"rows\": 20,\n  \"fields\": [\n    {\n      \"column\": \"Feature_names\",\n      \"properties\": {\n        \"dtype\": \"string\",\n        \"num_unique_values\": 20,\n        \"samples\": [\n          \"t_weapon_ak47\",\n          \"ct_players_alive\",\n          \"ct_weapon_ak47\"\n        ],\n        \"semantic_type\": \"\",\n        \"description\": \"\"\n      }\n    },\n    {\n      \"column\": \"feature_scores\",\n      \"properties\": {\n        \"dtype\": \"number\",\n        \"std\": 0.21909325562621387,\n        \"min\": 1.1739335852230448,\n        \"max\": 1.805806984801561,\n        \"num_unique_values\": 20,\n        \"samples\": [\n          1.805806984801561,\n          1.177012017832454,\n          1.2197525104301814\n        ],\n        \"semantic_type\": \"\",\n        \"description\": \"\"\n      }\n    }\n  ]\n}"
            }
          },
          "metadata": {},
          "execution_count": 104
        }
      ],
      "source": [
        "top_20_values.head(20)"
      ]
    },
    {
      "cell_type": "code",
      "execution_count": null,
      "metadata": {
        "colab": {
          "base_uri": "https://localhost:8080/"
        },
        "id": "79zaZVMSxVcY",
        "outputId": "dccf2710-ccfb-49ff-bbcc-98885ab1d086"
      },
      "outputs": [
        {
          "output_type": "execute_result",
          "data": {
            "text/plain": [
              "Index([17, 8, 65, 7, 40, 5, 6, 20, 15, 4, 89, 21, 64, 18, 9, 16, 87, 14, 10,\n",
              "       12],\n",
              "      dtype='int64')"
            ]
          },
          "metadata": {},
          "execution_count": 105
        }
      ],
      "source": [
        "top_20_values.index"
      ]
    },
    {
      "cell_type": "code",
      "execution_count": null,
      "metadata": {
        "id": "TggB4R91nGlf"
      },
      "outputs": [],
      "source": [
        "x_train=x_train[:,[17, 8, 65, 7, 40, 5, 6, 20, 15, 4, 89, 21, 64, 18, 9, 16, 87, 14,\n",
        "            10, 12]]"
      ]
    },
    {
      "cell_type": "code",
      "execution_count": null,
      "metadata": {
        "id": "6mzY5HDynJn4"
      },
      "outputs": [],
      "source": [
        "x_test=x_test[:,[17, 8, 65, 7, 40, 5, 6, 20, 15, 4, 89, 21, 64, 18, 9, 16, 87, 14,\n",
        "            10, 12]]"
      ]
    },
    {
      "cell_type": "code",
      "execution_count": null,
      "metadata": {
        "colab": {
          "base_uri": "https://localhost:8080/"
        },
        "id": "4WcUIMs1ZUo2",
        "outputId": "fa339798-45f7-4816-a7fc-a98b4f1f3fcb"
      },
      "outputs": [
        {
          "output_type": "stream",
          "name": "stderr",
          "text": [
            "/usr/local/lib/python3.10/dist-packages/sklearn/utils/validation.py:1183: DataConversionWarning:\n",
            "\n",
            "A column-vector y was passed when a 1d array was expected. Please change the shape of y to (n_samples, ), for example using ravel().\n",
            "\n"
          ]
        }
      ],
      "source": [
        "# Logistic Regression\n",
        "from sklearn.linear_model import LogisticRegression\n",
        "lr=LogisticRegression()\n",
        "lr.fit(x_train,y_train)\n",
        "y_pred=lr.predict(x_test)"
      ]
    },
    {
      "cell_type": "code",
      "execution_count": null,
      "metadata": {
        "colab": {
          "base_uri": "https://localhost:8080/"
        },
        "id": "YImM8pv6ZYGd",
        "outputId": "a91408d5-2a66-4d59-e68b-9151a0e214ac"
      },
      "outputs": [
        {
          "output_type": "execute_result",
          "data": {
            "text/plain": [
              "0.7516951229474717"
            ]
          },
          "metadata": {},
          "execution_count": 109
        }
      ],
      "source": [
        "from sklearn.metrics import accuracy_score\n",
        "accuracy_score(y_test,y_pred)"
      ]
    },
    {
      "cell_type": "markdown",
      "source": [
        "0.7516951229474717"
      ],
      "metadata": {
        "id": "PKmcsbw6lWOv"
      }
    },
    {
      "cell_type": "code",
      "execution_count": null,
      "metadata": {
        "colab": {
          "base_uri": "https://localhost:8080/",
          "height": 178
        },
        "id": "I2-jXyjb9ttH",
        "outputId": "f57cd42e-7e9e-4fde-fa5a-8528be2a8694"
      },
      "outputs": [
        {
          "output_type": "execute_result",
          "data": {
            "text/plain": [
              "round_winner\n",
              "1               12478\n",
              "0               12004\n",
              "Name: count, dtype: int64"
            ],
            "text/html": [
              "<div>\n",
              "<style scoped>\n",
              "    .dataframe tbody tr th:only-of-type {\n",
              "        vertical-align: middle;\n",
              "    }\n",
              "\n",
              "    .dataframe tbody tr th {\n",
              "        vertical-align: top;\n",
              "    }\n",
              "\n",
              "    .dataframe thead th {\n",
              "        text-align: right;\n",
              "    }\n",
              "</style>\n",
              "<table border=\"1\" class=\"dataframe\">\n",
              "  <thead>\n",
              "    <tr style=\"text-align: right;\">\n",
              "      <th></th>\n",
              "      <th>count</th>\n",
              "    </tr>\n",
              "    <tr>\n",
              "      <th>round_winner</th>\n",
              "      <th></th>\n",
              "    </tr>\n",
              "  </thead>\n",
              "  <tbody>\n",
              "    <tr>\n",
              "      <th>1</th>\n",
              "      <td>12478</td>\n",
              "    </tr>\n",
              "    <tr>\n",
              "      <th>0</th>\n",
              "      <td>12004</td>\n",
              "    </tr>\n",
              "  </tbody>\n",
              "</table>\n",
              "</div><br><label><b>dtype:</b> int64</label>"
            ]
          },
          "metadata": {},
          "execution_count": 110
        }
      ],
      "source": [
        "y_test.value_counts()"
      ]
    },
    {
      "cell_type": "code",
      "execution_count": null,
      "metadata": {
        "id": "wjJns_ngZyMp"
      },
      "outputs": [],
      "source": [
        "from sklearn.metrics import classification_report"
      ]
    },
    {
      "cell_type": "code",
      "execution_count": null,
      "metadata": {
        "colab": {
          "base_uri": "https://localhost:8080/"
        },
        "id": "MJ-_QASYc7hg",
        "outputId": "186cc4c8-c9c4-49ca-ebdb-97ff1b1c4121"
      },
      "outputs": [
        {
          "name": "stdout",
          "output_type": "stream",
          "text": [
            "              precision    recall  f1-score   support\n",
            "\n",
            "           0       0.74      0.76      0.75     12004\n",
            "           1       0.77      0.74      0.75     12478\n",
            "\n",
            "    accuracy                           0.75     24482\n",
            "   macro avg       0.75      0.75      0.75     24482\n",
            "weighted avg       0.75      0.75      0.75     24482\n",
            "\n"
          ]
        }
      ],
      "source": [
        "print(classification_report(y_test,y_pred))"
      ]
    },
    {
      "cell_type": "code",
      "execution_count": null,
      "metadata": {
        "id": "v1t8p-IJ8NqI"
      },
      "outputs": [],
      "source": [
        "# Decision Tree\n",
        "from sklearn.tree import DecisionTreeClassifier\n",
        "dtc=DecisionTreeClassifier()\n",
        "dtc.fit(x_train,y_train)\n",
        "y_pred=dtc.predict(x_test)"
      ]
    },
    {
      "cell_type": "code",
      "execution_count": null,
      "metadata": {
        "colab": {
          "base_uri": "https://localhost:8080/"
        },
        "id": "XQe5ck_O80Q4",
        "outputId": "1ba3b504-f1f7-4ecc-ccf9-beb0d8583126"
      },
      "outputs": [
        {
          "output_type": "execute_result",
          "data": {
            "text/plain": [
              "0.8162323339596438"
            ]
          },
          "metadata": {},
          "execution_count": 113
        }
      ],
      "source": [
        "accuracy_score(y_test,y_pred)"
      ]
    },
    {
      "cell_type": "code",
      "execution_count": null,
      "metadata": {
        "colab": {
          "base_uri": "https://localhost:8080/"
        },
        "id": "AY2xaDbM84ln",
        "outputId": "4b34740f-ec2e-4a0a-93ef-90ae923de387"
      },
      "outputs": [
        {
          "output_type": "stream",
          "name": "stdout",
          "text": [
            "              precision    recall  f1-score   support\n",
            "\n",
            "           0       0.81      0.81      0.81     12004\n",
            "           1       0.82      0.82      0.82     12478\n",
            "\n",
            "    accuracy                           0.82     24482\n",
            "   macro avg       0.82      0.82      0.82     24482\n",
            "weighted avg       0.82      0.82      0.82     24482\n",
            "\n"
          ]
        }
      ],
      "source": [
        "print(classification_report(y_test,y_pred))"
      ]
    },
    {
      "cell_type": "code",
      "execution_count": null,
      "metadata": {
        "colab": {
          "base_uri": "https://localhost:8080/"
        },
        "id": "iCWRrsitdICS",
        "outputId": "44493619-b08f-439d-a16e-66175e523cb4"
      },
      "outputs": [
        {
          "output_type": "stream",
          "name": "stderr",
          "text": [
            "/usr/local/lib/python3.10/dist-packages/sklearn/base.py:1152: DataConversionWarning:\n",
            "\n",
            "A column-vector y was passed when a 1d array was expected. Please change the shape of y to (n_samples,), for example using ravel().\n",
            "\n"
          ]
        }
      ],
      "source": [
        "# Random Forest  #bagging\n",
        "from sklearn.ensemble import RandomForestClassifier\n",
        "rfc=RandomForestClassifier()\n",
        "rfc.fit(x_train,y_train)\n",
        "y_pred=rfc.predict(x_test)"
      ]
    },
    {
      "cell_type": "code",
      "execution_count": null,
      "metadata": {
        "colab": {
          "base_uri": "https://localhost:8080/"
        },
        "id": "yjT4YoRVdaNI",
        "outputId": "1f1ec5b9-a983-45cb-eb7f-ca064d11bac7"
      },
      "outputs": [
        {
          "output_type": "execute_result",
          "data": {
            "text/plain": [
              "0.8552405849195327"
            ]
          },
          "metadata": {},
          "execution_count": 116
        }
      ],
      "source": [
        "accuracy_score(y_test,y_pred)"
      ]
    },
    {
      "cell_type": "code",
      "execution_count": null,
      "metadata": {
        "colab": {
          "base_uri": "https://localhost:8080/"
        },
        "id": "MkWAuNHudpNi",
        "outputId": "a14e8ec1-c416-4e68-834e-551d27da9c5c"
      },
      "outputs": [
        {
          "output_type": "stream",
          "name": "stdout",
          "text": [
            "              precision    recall  f1-score   support\n",
            "\n",
            "           0       0.85      0.86      0.85     12004\n",
            "           1       0.86      0.85      0.86     12478\n",
            "\n",
            "    accuracy                           0.86     24482\n",
            "   macro avg       0.86      0.86      0.86     24482\n",
            "weighted avg       0.86      0.86      0.86     24482\n",
            "\n"
          ]
        }
      ],
      "source": [
        "print(classification_report(y_test,y_pred))"
      ]
    },
    {
      "cell_type": "code",
      "execution_count": null,
      "metadata": {
        "id": "Ov2krPOkPgtt"
      },
      "outputs": [],
      "source": [
        "# Clearly we can see that random forest is the best model for this dataset.\n",
        "# It has the highest accuracy and f1-score"
      ]
    }
  ],
  "metadata": {
    "colab": {
      "provenance": []
    },
    "kernelspec": {
      "display_name": "Python 3",
      "name": "python3"
    },
    "language_info": {
      "name": "python"
    }
  },
  "nbformat": 4,
  "nbformat_minor": 0
}